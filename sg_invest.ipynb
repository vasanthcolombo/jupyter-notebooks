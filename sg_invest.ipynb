{
 "cells": [
  {
   "cell_type": "code",
   "execution_count": 22,
   "id": "2d9383e6",
   "metadata": {},
   "outputs": [],
   "source": [
    "import pandas as pd\n",
    "import pyxirr\n",
    "import yfinance as yf\n",
    "import numpy as np"
   ]
  },
  {
   "cell_type": "code",
   "execution_count": 3,
   "id": "f31f407d",
   "metadata": {},
   "outputs": [],
   "source": [
    "file = 'D:\\jupyter notebooks\\investment_returns.xlsx'\n",
    "sheets = ['Saxo - SGD', 'IBKR - SGD(U7470748)', 'IBKR endowment plan', 'Tiger broker', 'philips - SGD']"
   ]
  },
  {
   "cell_type": "code",
   "execution_count": 4,
   "id": "403d61e1",
   "metadata": {},
   "outputs": [],
   "source": [
    "dfs = {sheet : pd.read_excel(file, sheet_name=sheet) for sheet in sheets}"
   ]
  },
  {
   "cell_type": "code",
   "execution_count": 5,
   "id": "b824e110",
   "metadata": {},
   "outputs": [],
   "source": [
    "dfs['Saxo - SGD']['source'] = 'saxo'\n",
    "dfs['IBKR - SGD(U7470748)']['source'] = 'ibkr'\n",
    "dfs['IBKR endowment plan']['source'] = 'ibkr_endowment'\n",
    "dfs['Tiger broker']['source'] = 'tiger'\n",
    "dfs['philips - SGD']['source'] = 'philips'"
   ]
  },
  {
   "cell_type": "code",
   "execution_count": 48,
   "id": "69ea2141",
   "metadata": {},
   "outputs": [],
   "source": [
    "def remove_unnamed_columns(dfs: dict):\n",
    "    for key in dfs.keys():\n",
    "        dfs[key] = dfs[key].loc[:, ~dfs[key].columns.str.contains('^Unnamed')]\n",
    "\n",
    "def filter_invalid_timestamps(dfs: dict):\n",
    "    for key, df in dfs.items():\n",
    "        df['parse_timestamp'] = pd.to_datetime(df['Date'], errors='coerce')\n",
    "        invalid_rows = df[df['parse_timestamp'].isna()]\n",
    "        df.drop(invalid_rows.index, inplace=True)\n",
    "        df['date'] = df['parse_timestamp'].dt.date\n",
    "        df.drop(columns=['parse_timestamp', 'Date'], inplace=True)\n",
    "        dfs[key] = df\n",
    "        print(f\"dropped invalid rows in {key}\")\n",
    "        print(invalid_rows)\n",
    "\n",
    "def rename_columns(dfs: dict):\n",
    "    for key, df in dfs.items():\n",
    "        df.columns = [col.lower() for col in df.columns]\n",
    "        df = df[['date', 'source', 'amount', 'desc']]\n",
    "        dfs[key] = df\n",
    "\n",
    "def get_sp500_data(start_date: pd.Timestamp, end_date: pd.Timestamp):\n",
    "    sp500_ticker = '^GSPC'\n",
    "    sp500_data = yf.download(sp500_ticker, start=start_date, end=end_date, progress=False)\n",
    "    assert sp500_data is not None\n",
    "    sp500_data.columns = sp500_data.columns.get_level_values(0)\n",
    "    sp500_data.columns.name = None\n",
    "\n",
    "    return sp500_data\n",
    "    "
   ]
  },
  {
   "cell_type": "code",
   "execution_count": 7,
   "id": "3d92dac0",
   "metadata": {},
   "outputs": [
    {
     "data": {
      "text/plain": [
       "{'Amount', 'Date', 'Desc', 'Unnamed: 3', 'source'}"
      ]
     },
     "execution_count": 7,
     "metadata": {},
     "output_type": "execute_result"
    }
   ],
   "source": [
    "set(dfs['Saxo - SGD'].columns.to_list() + dfs['IBKR - SGD(U7470748)'].columns.to_list() + \\\n",
    "    dfs['IBKR endowment plan'].columns.to_list() + dfs['Tiger broker'].columns.to_list() + \\\n",
    "    dfs['philips - SGD'].columns.to_list())"
   ]
  },
  {
   "cell_type": "code",
   "execution_count": 8,
   "id": "d3517993",
   "metadata": {},
   "outputs": [
    {
     "name": "stdout",
     "output_type": "stream",
     "text": [
      "dropped invalid rows in Saxo - SGD\n",
      "          Date Desc        Amount source parse_timestamp\n",
      "28         NaN  NaN           NaN   saxo             NaT\n",
      "30         NaN  NaN           NaN   saxo             NaT\n",
      "31         NaN  NaN           NaN   saxo             NaT\n",
      "32         NaN  NaN           NaN   saxo             NaT\n",
      "33  Investment  NaN  52292.000000   saxo             NaT\n",
      "34      Profit  NaN  17708.000000   saxo             NaT\n",
      "35        XIRR  NaN      0.062374   saxo             NaT\n",
      "dropped invalid rows in IBKR - SGD(U7470748)\n",
      "          Date Desc         Amount source parse_timestamp\n",
      "58         NaN  NaN            NaN   ibkr             NaT\n",
      "59  Investment  NaN  209791.000000   ibkr             NaT\n",
      "60      Profit  NaN   50909.000000   ibkr             NaT\n",
      "61        XIRR  NaN       0.167748   ibkr             NaT\n",
      "dropped invalid rows in IBKR endowment plan\n",
      "          Date Desc        Amount          source parse_timestamp\n",
      "23         NaN  NaN           NaN  ibkr_endowment             NaT\n",
      "24  Investment  NaN  18959.000000  ibkr_endowment             NaT\n",
      "25      Profit  NaN   4431.000000  ibkr_endowment             NaT\n",
      "26        XIRR  NaN      0.164688  ibkr_endowment             NaT\n",
      "dropped invalid rows in Tiger broker\n",
      "          Date Desc        Amount source parse_timestamp\n",
      "29         NaN  NaN           NaN  tiger             NaT\n",
      "30         NaN  NaN           NaN  tiger             NaT\n",
      "31  Investment  NaN  196600.00000  tiger             NaT\n",
      "32      Profit  NaN   79400.00000  tiger             NaT\n",
      "33        XIRR  NaN       0.82737  tiger             NaT\n",
      "dropped invalid rows in philips - SGD\n",
      "                         Date Desc        Amount   source parse_timestamp\n",
      "33                        NaN  NaN           NaN  philips             NaT\n",
      "34                        NaN  NaN           NaN  philips             NaT\n",
      "35           Total Investment  NaN -80000.000000  philips             NaT\n",
      "36               Total Profit  NaN  11339.000000  philips             NaT\n",
      "37  Current investment amount  NaN   7000.000000  philips             NaT\n",
      "38                       XIRR  NaN      0.121001  philips             NaT\n"
     ]
    }
   ],
   "source": [
    "remove_unnamed_columns(dfs)\n",
    "filter_invalid_timestamps(dfs)\n",
    "rename_columns(dfs)\n"
   ]
  },
  {
   "cell_type": "code",
   "execution_count": 9,
   "id": "8c5c6103",
   "metadata": {},
   "outputs": [],
   "source": [
    "df = pd.concat(dfs.values(), axis=0)"
   ]
  },
  {
   "cell_type": "code",
   "execution_count": 10,
   "id": "76aeaa8d",
   "metadata": {},
   "outputs": [],
   "source": [
    "df.date = pd.to_datetime(df.date, errors='coerce')"
   ]
  },
  {
   "cell_type": "code",
   "execution_count": 11,
   "id": "6491fa00",
   "metadata": {},
   "outputs": [
    {
     "data": {
      "text/html": [
       "<div>\n",
       "<style scoped>\n",
       "    .dataframe tbody tr th:only-of-type {\n",
       "        vertical-align: middle;\n",
       "    }\n",
       "\n",
       "    .dataframe tbody tr th {\n",
       "        vertical-align: top;\n",
       "    }\n",
       "\n",
       "    .dataframe thead th {\n",
       "        text-align: right;\n",
       "    }\n",
       "</style>\n",
       "<table border=\"1\" class=\"dataframe\">\n",
       "  <thead>\n",
       "    <tr style=\"text-align: right;\">\n",
       "      <th></th>\n",
       "      <th>date</th>\n",
       "      <th>source</th>\n",
       "      <th>amount</th>\n",
       "      <th>desc</th>\n",
       "    </tr>\n",
       "  </thead>\n",
       "  <tbody>\n",
       "    <tr>\n",
       "      <th>29</th>\n",
       "      <td>2025-07-02</td>\n",
       "      <td>saxo</td>\n",
       "      <td>70000.0</td>\n",
       "      <td>current value</td>\n",
       "    </tr>\n",
       "    <tr>\n",
       "      <th>57</th>\n",
       "      <td>2025-07-02</td>\n",
       "      <td>ibkr</td>\n",
       "      <td>260700.0</td>\n",
       "      <td>current value</td>\n",
       "    </tr>\n",
       "    <tr>\n",
       "      <th>22</th>\n",
       "      <td>2025-07-02</td>\n",
       "      <td>ibkr_endowment</td>\n",
       "      <td>24900.0</td>\n",
       "      <td>current value</td>\n",
       "    </tr>\n",
       "    <tr>\n",
       "      <th>28</th>\n",
       "      <td>2025-07-09</td>\n",
       "      <td>tiger</td>\n",
       "      <td>276000.0</td>\n",
       "      <td>current value</td>\n",
       "    </tr>\n",
       "    <tr>\n",
       "      <th>32</th>\n",
       "      <td>2025-02-13</td>\n",
       "      <td>philips</td>\n",
       "      <td>11113.0</td>\n",
       "      <td>current value</td>\n",
       "    </tr>\n",
       "  </tbody>\n",
       "</table>\n",
       "</div>"
      ],
      "text/plain": [
       "         date          source    amount           desc\n",
       "29 2025-07-02            saxo   70000.0  current value\n",
       "57 2025-07-02            ibkr  260700.0  current value\n",
       "22 2025-07-02  ibkr_endowment   24900.0  current value\n",
       "28 2025-07-09           tiger  276000.0  current value\n",
       "32 2025-02-13         philips   11113.0  current value"
      ]
     },
     "execution_count": 11,
     "metadata": {},
     "output_type": "execute_result"
    }
   ],
   "source": [
    "# df_combined = df.groupby(['date', 'desc'], as_index=False)['amount'].sum()\n",
    "df_curr = df[df['desc'] == 'current value']\n",
    "df_other = df[df['desc'] != 'current value']\n",
    "df_curr\n",
    "\n"
   ]
  },
  {
   "cell_type": "code",
   "execution_count": 12,
   "id": "d6aa2142",
   "metadata": {},
   "outputs": [
    {
     "data": {
      "text/html": [
       "<div>\n",
       "<style scoped>\n",
       "    .dataframe tbody tr th:only-of-type {\n",
       "        vertical-align: middle;\n",
       "    }\n",
       "\n",
       "    .dataframe tbody tr th {\n",
       "        vertical-align: top;\n",
       "    }\n",
       "\n",
       "    .dataframe thead th {\n",
       "        text-align: right;\n",
       "    }\n",
       "</style>\n",
       "<table border=\"1\" class=\"dataframe\">\n",
       "  <thead>\n",
       "    <tr style=\"text-align: right;\">\n",
       "      <th></th>\n",
       "      <th>date</th>\n",
       "      <th>source</th>\n",
       "      <th>amount</th>\n",
       "      <th>desc</th>\n",
       "    </tr>\n",
       "  </thead>\n",
       "  <tbody>\n",
       "    <tr>\n",
       "      <th>28</th>\n",
       "      <td>2025-07-09</td>\n",
       "      <td>all_sources</td>\n",
       "      <td>642713.0</td>\n",
       "      <td>current value</td>\n",
       "    </tr>\n",
       "  </tbody>\n",
       "</table>\n",
       "</div>"
      ],
      "text/plain": [
       "         date       source    amount           desc\n",
       "28 2025-07-09  all_sources  642713.0  current value"
      ]
     },
     "execution_count": 12,
     "metadata": {},
     "output_type": "execute_result"
    }
   ],
   "source": [
    "idx = df_curr['date'].idxmax()\n",
    "amount_sum = df_curr['amount'].sum()\n",
    "df_curr = df_curr.loc[[idx],:].copy()\n",
    "df_curr['amount'] = amount_sum\n",
    "df_curr['source'] = 'all_sources'\n",
    "df_curr"
   ]
  },
  {
   "cell_type": "code",
   "execution_count": 13,
   "id": "729c3f2d",
   "metadata": {},
   "outputs": [
    {
     "data": {
      "text/html": [
       "<div>\n",
       "<style scoped>\n",
       "    .dataframe tbody tr th:only-of-type {\n",
       "        vertical-align: middle;\n",
       "    }\n",
       "\n",
       "    .dataframe tbody tr th {\n",
       "        vertical-align: top;\n",
       "    }\n",
       "\n",
       "    .dataframe thead th {\n",
       "        text-align: right;\n",
       "    }\n",
       "</style>\n",
       "<table border=\"1\" class=\"dataframe\">\n",
       "  <thead>\n",
       "    <tr style=\"text-align: right;\">\n",
       "      <th></th>\n",
       "      <th>date</th>\n",
       "      <th>source</th>\n",
       "      <th>amount</th>\n",
       "      <th>desc</th>\n",
       "    </tr>\n",
       "  </thead>\n",
       "  <tbody>\n",
       "    <tr>\n",
       "      <th>0</th>\n",
       "      <td>2019-02-22</td>\n",
       "      <td>philips</td>\n",
       "      <td>-843.0</td>\n",
       "      <td>Invest</td>\n",
       "    </tr>\n",
       "    <tr>\n",
       "      <th>1</th>\n",
       "      <td>2019-03-25</td>\n",
       "      <td>philips</td>\n",
       "      <td>-737.0</td>\n",
       "      <td>Invest</td>\n",
       "    </tr>\n",
       "    <tr>\n",
       "      <th>2</th>\n",
       "      <td>2019-04-29</td>\n",
       "      <td>philips</td>\n",
       "      <td>-770.0</td>\n",
       "      <td>Invest</td>\n",
       "    </tr>\n",
       "    <tr>\n",
       "      <th>3</th>\n",
       "      <td>2019-05-23</td>\n",
       "      <td>philips</td>\n",
       "      <td>-800.0</td>\n",
       "      <td>Invest</td>\n",
       "    </tr>\n",
       "    <tr>\n",
       "      <th>4</th>\n",
       "      <td>2019-06-27</td>\n",
       "      <td>philips</td>\n",
       "      <td>-800.0</td>\n",
       "      <td>Invest</td>\n",
       "    </tr>\n",
       "    <tr>\n",
       "      <th>...</th>\n",
       "      <td>...</td>\n",
       "      <td>...</td>\n",
       "      <td>...</td>\n",
       "      <td>...</td>\n",
       "    </tr>\n",
       "    <tr>\n",
       "      <th>163</th>\n",
       "      <td>2025-05-07</td>\n",
       "      <td>ibkr_endowment</td>\n",
       "      <td>-544.0</td>\n",
       "      <td>VOO</td>\n",
       "    </tr>\n",
       "    <tr>\n",
       "      <th>164</th>\n",
       "      <td>2025-05-12</td>\n",
       "      <td>tiger</td>\n",
       "      <td>-10000.0</td>\n",
       "      <td>NaN</td>\n",
       "    </tr>\n",
       "    <tr>\n",
       "      <th>165</th>\n",
       "      <td>2025-07-02</td>\n",
       "      <td>ibkr</td>\n",
       "      <td>-6200.0</td>\n",
       "      <td>FBTC</td>\n",
       "    </tr>\n",
       "    <tr>\n",
       "      <th>166</th>\n",
       "      <td>2025-07-09</td>\n",
       "      <td>tiger</td>\n",
       "      <td>-10000.0</td>\n",
       "      <td>NaN</td>\n",
       "    </tr>\n",
       "    <tr>\n",
       "      <th>167</th>\n",
       "      <td>2025-07-09</td>\n",
       "      <td>all_sources</td>\n",
       "      <td>642713.0</td>\n",
       "      <td>current value</td>\n",
       "    </tr>\n",
       "  </tbody>\n",
       "</table>\n",
       "<p>168 rows × 4 columns</p>\n",
       "</div>"
      ],
      "text/plain": [
       "          date          source    amount           desc\n",
       "0   2019-02-22         philips    -843.0         Invest\n",
       "1   2019-03-25         philips    -737.0         Invest\n",
       "2   2019-04-29         philips    -770.0         Invest\n",
       "3   2019-05-23         philips    -800.0         Invest\n",
       "4   2019-06-27         philips    -800.0         Invest\n",
       "..         ...             ...       ...            ...\n",
       "163 2025-05-07  ibkr_endowment    -544.0            VOO\n",
       "164 2025-05-12           tiger  -10000.0            NaN\n",
       "165 2025-07-02            ibkr   -6200.0           FBTC\n",
       "166 2025-07-09           tiger  -10000.0            NaN\n",
       "167 2025-07-09     all_sources  642713.0  current value\n",
       "\n",
       "[168 rows x 4 columns]"
      ]
     },
     "execution_count": 13,
     "metadata": {},
     "output_type": "execute_result"
    }
   ],
   "source": [
    "df = pd.concat([df_other, df_curr], axis=0).sort_values(by='date', ascending=True).reset_index(drop=True)\n",
    "df"
   ]
  },
  {
   "cell_type": "code",
   "execution_count": null,
   "id": "b027e2f7",
   "metadata": {},
   "outputs": [
    {
     "name": "stdout",
     "output_type": "stream",
     "text": [
      "XIRR: 18.34%\n"
     ]
    }
   ],
   "source": [
    "my_returns = pyxirr.xirr(dict(zip(df['date'], df['amount'])))\n",
    "assert my_returns is not None\n",
    "print(f\"XIRR: {my_returns * 100:.2f}%\")"
   ]
  },
  {
   "cell_type": "code",
   "execution_count": 15,
   "id": "64ee9f04",
   "metadata": {},
   "outputs": [
    {
     "data": {
      "text/plain": [
       "array(['Invest', 'Invest saxo', 'invest', 'withdraw saxo',\n",
       "       'Initial investment', 'epam', 'withdraw', 'Invest IB', 'SG reits',\n",
       "       'Jan deposit', 'Transfer to IBKR endowment', 'Feb',\n",
       "       'transfered from other account', '  mar + bonus', 'ocbc',\n",
       "       ' invest', 'trxf to other IBKR account', 'tesla, voo, msft',\n",
       "       'tesla, voo, msft : sent as USD(113 USD)',\n",
       "       'tesla, voo, msft : trxf from IBKR endowment plan (150USD)', 'dbs',\n",
       "       'transfer to  IB endowment account',\n",
       "       'invest from other ibkr account',\n",
       "       'transfer from IB endowment account', 'VOO', 'epam, voo',\n",
       "       'ocbc, capitaland industrial trust', 'GOOG,SMIN', 'Tesla',\n",
       "       'VOO,QQQ', 'VOO,TSLA', nan, 'SMIN', 'TSLA, MSFT', 'CICT', 'TSLA',\n",
       "       'PLTR', 'capitaland ascott', 'QQQ', 'TSLA,QQQ,GOOG',\n",
       "       'transfer to IBKR endowment', 'VOO, QQQ', 'CY6U',\n",
       "       'QQQ, PLTR, NVDA', 'FBTC', 'current value'], dtype=object)"
      ]
     },
     "execution_count": 15,
     "metadata": {},
     "output_type": "execute_result"
    }
   ],
   "source": [
    "df['desc'].unique()"
   ]
  },
  {
   "cell_type": "code",
   "execution_count": 16,
   "id": "c2af40c1",
   "metadata": {},
   "outputs": [
    {
     "data": {
      "text/html": [
       "<div>\n",
       "<style scoped>\n",
       "    .dataframe tbody tr th:only-of-type {\n",
       "        vertical-align: middle;\n",
       "    }\n",
       "\n",
       "    .dataframe tbody tr th {\n",
       "        vertical-align: top;\n",
       "    }\n",
       "\n",
       "    .dataframe thead th {\n",
       "        text-align: right;\n",
       "    }\n",
       "</style>\n",
       "<table border=\"1\" class=\"dataframe\">\n",
       "  <thead>\n",
       "    <tr style=\"text-align: right;\">\n",
       "      <th></th>\n",
       "      <th>date</th>\n",
       "      <th>source</th>\n",
       "      <th>amount</th>\n",
       "      <th>desc</th>\n",
       "    </tr>\n",
       "  </thead>\n",
       "  <tbody>\n",
       "    <tr>\n",
       "      <th>167</th>\n",
       "      <td>2025-07-09</td>\n",
       "      <td>all_sources</td>\n",
       "      <td>642713.0</td>\n",
       "      <td>current value</td>\n",
       "    </tr>\n",
       "  </tbody>\n",
       "</table>\n",
       "</div>"
      ],
      "text/plain": [
       "          date       source    amount           desc\n",
       "167 2025-07-09  all_sources  642713.0  current value"
      ]
     },
     "execution_count": 16,
     "metadata": {},
     "output_type": "execute_result"
    }
   ],
   "source": [
    "df[df['desc']=='current value']"
   ]
  },
  {
   "cell_type": "code",
   "execution_count": 50,
   "id": "6013a5cc",
   "metadata": {},
   "outputs": [
    {
     "name": "stdout",
     "output_type": "stream",
     "text": [
      "Start date: 2019-02-22 00:00:00, End date: 2025-07-09 00:00:00\n"
     ]
    },
    {
     "name": "stderr",
     "output_type": "stream",
     "text": [
      "C:\\Users\\vasan\\AppData\\Local\\Temp\\ipykernel_11044\\33745460.py:24: FutureWarning: YF.download() has changed argument auto_adjust default to True\n",
      "  sp500_data = yf.download(sp500_ticker, start=start_date, end=end_date, progress=False)\n"
     ]
    }
   ],
   "source": [
    "start_date = df['date'].min()\n",
    "end_date = df['date'].max()\n",
    "print(f\"Start date: {start_date}, End date: {end_date}\")\n",
    "sp500_prices = get_sp500_data(start_date, end_date)\n",
    "sp500_prices.index = pd.to_datetime(sp500_prices.index, errors='coerce')"
   ]
  },
  {
   "cell_type": "code",
   "execution_count": 39,
   "id": "e0591950",
   "metadata": {},
   "outputs": [
    {
     "data": {
      "text/plain": [
       "Index(['Close', 'High', 'Low', 'Open', 'Volume'], dtype='object')"
      ]
     },
     "execution_count": 39,
     "metadata": {},
     "output_type": "execute_result"
    }
   ],
   "source": [
    "sp500_prices.columns"
   ]
  },
  {
   "cell_type": "code",
   "execution_count": 51,
   "id": "ffb5e1a5",
   "metadata": {},
   "outputs": [
    {
     "name": "stdout",
     "output_type": "stream",
     "text": [
      "sp500 equivalent shares: 99.23768263693569\n",
      "sp500 equivalent shares: 99.23768263693569\n",
      "sp500 equivalent current value: 617806.1799481319\n"
     ]
    },
    {
     "data": {
      "text/html": [
       "<div>\n",
       "<style scoped>\n",
       "    .dataframe tbody tr th:only-of-type {\n",
       "        vertical-align: middle;\n",
       "    }\n",
       "\n",
       "    .dataframe tbody tr th {\n",
       "        vertical-align: top;\n",
       "    }\n",
       "\n",
       "    .dataframe thead th {\n",
       "        text-align: right;\n",
       "    }\n",
       "</style>\n",
       "<table border=\"1\" class=\"dataframe\">\n",
       "  <thead>\n",
       "    <tr style=\"text-align: right;\">\n",
       "      <th></th>\n",
       "      <th>date</th>\n",
       "      <th>type</th>\n",
       "      <th>shares</th>\n",
       "      <th>price_per_share</th>\n",
       "      <th>amount</th>\n",
       "    </tr>\n",
       "  </thead>\n",
       "  <tbody>\n",
       "    <tr>\n",
       "      <th>0</th>\n",
       "      <td>2019-02-22</td>\n",
       "      <td>buy</td>\n",
       "      <td>0.301862</td>\n",
       "      <td>2792.669922</td>\n",
       "      <td>-843.000000</td>\n",
       "    </tr>\n",
       "    <tr>\n",
       "      <th>1</th>\n",
       "      <td>2019-03-25</td>\n",
       "      <td>buy</td>\n",
       "      <td>0.263369</td>\n",
       "      <td>2798.360107</td>\n",
       "      <td>-737.000000</td>\n",
       "    </tr>\n",
       "    <tr>\n",
       "      <th>2</th>\n",
       "      <td>2019-04-29</td>\n",
       "      <td>buy</td>\n",
       "      <td>0.261635</td>\n",
       "      <td>2943.030029</td>\n",
       "      <td>-770.000000</td>\n",
       "    </tr>\n",
       "    <tr>\n",
       "      <th>3</th>\n",
       "      <td>2019-05-23</td>\n",
       "      <td>buy</td>\n",
       "      <td>0.283463</td>\n",
       "      <td>2822.239990</td>\n",
       "      <td>-800.000000</td>\n",
       "    </tr>\n",
       "    <tr>\n",
       "      <th>4</th>\n",
       "      <td>2019-06-27</td>\n",
       "      <td>buy</td>\n",
       "      <td>0.273512</td>\n",
       "      <td>2924.919922</td>\n",
       "      <td>-800.000000</td>\n",
       "    </tr>\n",
       "    <tr>\n",
       "      <th>...</th>\n",
       "      <td>...</td>\n",
       "      <td>...</td>\n",
       "      <td>...</td>\n",
       "      <td>...</td>\n",
       "      <td>...</td>\n",
       "    </tr>\n",
       "    <tr>\n",
       "      <th>163</th>\n",
       "      <td>2025-05-07</td>\n",
       "      <td>buy</td>\n",
       "      <td>0.096603</td>\n",
       "      <td>5631.279785</td>\n",
       "      <td>-544.000000</td>\n",
       "    </tr>\n",
       "    <tr>\n",
       "      <th>164</th>\n",
       "      <td>2025-05-12</td>\n",
       "      <td>buy</td>\n",
       "      <td>1.711101</td>\n",
       "      <td>5844.189941</td>\n",
       "      <td>-10000.000000</td>\n",
       "    </tr>\n",
       "    <tr>\n",
       "      <th>165</th>\n",
       "      <td>2025-07-02</td>\n",
       "      <td>buy</td>\n",
       "      <td>0.995597</td>\n",
       "      <td>6227.419922</td>\n",
       "      <td>-6200.000000</td>\n",
       "    </tr>\n",
       "    <tr>\n",
       "      <th>166</th>\n",
       "      <td>2025-07-09</td>\n",
       "      <td>buy</td>\n",
       "      <td>1.606292</td>\n",
       "      <td>6225.520020</td>\n",
       "      <td>-10000.000000</td>\n",
       "    </tr>\n",
       "    <tr>\n",
       "      <th>167</th>\n",
       "      <td>2025-07-08</td>\n",
       "      <td>current value</td>\n",
       "      <td>99.237683</td>\n",
       "      <td>6225.520020</td>\n",
       "      <td>617806.179948</td>\n",
       "    </tr>\n",
       "  </tbody>\n",
       "</table>\n",
       "<p>168 rows × 5 columns</p>\n",
       "</div>"
      ],
      "text/plain": [
       "           date           type     shares  price_per_share         amount\n",
       "0    2019-02-22            buy   0.301862      2792.669922    -843.000000\n",
       "1    2019-03-25            buy   0.263369      2798.360107    -737.000000\n",
       "2    2019-04-29            buy   0.261635      2943.030029    -770.000000\n",
       "3    2019-05-23            buy   0.283463      2822.239990    -800.000000\n",
       "4    2019-06-27            buy   0.273512      2924.919922    -800.000000\n",
       "..          ...            ...        ...              ...            ...\n",
       "163  2025-05-07            buy   0.096603      5631.279785    -544.000000\n",
       "164  2025-05-12            buy   1.711101      5844.189941  -10000.000000\n",
       "165  2025-07-02            buy   0.995597      6227.419922   -6200.000000\n",
       "166  2025-07-09            buy   1.606292      6225.520020  -10000.000000\n",
       "167  2025-07-08  current value  99.237683      6225.520020  617806.179948\n",
       "\n",
       "[168 rows x 5 columns]"
      ]
     },
     "execution_count": 51,
     "metadata": {},
     "output_type": "execute_result"
    }
   ],
   "source": [
    "transactions = []\n",
    "total_shares = 0.0\n",
    "sp500_current_px = 0.0\n",
    "sp500_current_date = pd.Timestamp('1970-01-01')\n",
    "for _, rows in df.iterrows():\n",
    "    date = rows['date']\n",
    "    amount = rows['amount']\n",
    "    available_dates = sp500_prices.index\n",
    "    closest_date = min(available_dates, key=lambda d: abs(d - date))\n",
    "    px = sp500_prices.loc[closest_date, 'Close']\n",
    "    # print(f\"{date} {closest_date} {px}\")\n",
    "    if rows['desc'] == 'current value':\n",
    "        sp500_current_px = px\n",
    "        sp500_current_date = closest_date\n",
    "        continue    \n",
    "    \n",
    "    if amount < 0:\n",
    "        shares_bought = abs(amount) / px\n",
    "        total_shares += shares_bought\n",
    "        transactions.append({\n",
    "            'date': date.date(),\n",
    "            'type': 'buy',\n",
    "            'shares': shares_bought,\n",
    "            'price_per_share': px,\n",
    "            'amount': amount\n",
    "        })\n",
    "    else:\n",
    "        shares_sold = amount / px\n",
    "        total_shares -= shares_sold\n",
    "        transactions.append({\n",
    "            'date': date.date(),\n",
    "            'type': 'sell',\n",
    "            'shares': shares_sold,\n",
    "            'price_per_share': px,\n",
    "            'amount': amount            \n",
    "        })\n",
    "\n",
    "print(\"sp500 equivalent shares:\", total_shares)\n",
    "transactions.append({  \n",
    "    'date': pd.to_datetime(sp500_current_date).date(),\n",
    "    'type': 'current value',\n",
    "    'shares': total_shares,\n",
    "    'price_per_share': sp500_current_px,\n",
    "    'amount': total_shares * sp500_current_px\n",
    "})\n",
    "print(\"sp500 equivalent shares:\", total_shares)\n",
    "print(\"sp500 equivalent current value:\", total_shares * sp500_current_px)\n",
    "sp500_df = pd.DataFrame(transactions)\n",
    "sp500_df"
   ]
  },
  {
   "cell_type": "code",
   "execution_count": 54,
   "id": "b0f76e2a",
   "metadata": {},
   "outputs": [
    {
     "name": "stdout",
     "output_type": "stream",
     "text": [
      "<class 'datetime.date'>\n",
      "<class 'pandas._libs.tslibs.timestamps.Timestamp'>\n",
      "<class 'numpy.float64'>\n"
     ]
    }
   ],
   "source": [
    "print(type(sp500_df.loc[0, 'date']))\n",
    "print(type(df.loc[0, 'date']))\n",
    "print(type(sp500_df.loc[0, 'amount']))"
   ]
  },
  {
   "cell_type": "code",
   "execution_count": 56,
   "id": "62232d08",
   "metadata": {},
   "outputs": [
    {
     "name": "stdout",
     "output_type": "stream",
     "text": [
      "IRR if invested in sp500: 15.52%\n"
     ]
    }
   ],
   "source": [
    "sp500_returns = pyxirr.xirr(dict(zip(sp500_df['date'], sp500_df['amount'])))\n",
    "assert sp500_returns is not None\n",
    "print(f\"IRR if invested in sp500: {sp500_returns * 100:.2f}%\")"
   ]
  },
  {
   "cell_type": "code",
   "execution_count": 58,
   "id": "e79c8c52",
   "metadata": {},
   "outputs": [
    {
     "name": "stdout",
     "output_type": "stream",
     "text": [
      "IRR of my investments: 18.34%\n"
     ]
    }
   ],
   "source": [
    "print(f\"IRR of my investments: {my_returns * 100:.2f}%\")"
   ]
  },
  {
   "cell_type": "code",
   "execution_count": 66,
   "id": "96916ad0",
   "metadata": {},
   "outputs": [
    {
     "name": "stdout",
     "output_type": "stream",
     "text": [
      "total investment: 478926.00\n",
      "current value: 642713.00\n",
      "profit: 163787.00\n",
      "returns: 34.20%\n",
      "XIRR of my investments: 18.34%\n",
      "XIRR of sp500: 15.52%\n"
     ]
    }
   ],
   "source": [
    "total_investment = df[df['desc'] != 'current value']['amount'].sum() * -1\n",
    "current_value = df[df['desc'] == 'current value']['amount'].sum()\n",
    "profit = current_value - total_investment\n",
    "xirr = my_returns * 100\n",
    "sp500_xirr = sp500_returns * 100\n",
    "returns = profit / total_investment * 100\n",
    "xirr_sp500 = sp500_returns * 100\n",
    "print(f\"total investment: {total_investment:.2f}\")\n",
    "print(f\"current value: {current_value:.2f}\")\n",
    "print(f\"profit: {profit:.2f}\")\n",
    "print(f\"returns: {returns:.2f}%\")\n",
    "print(f\"XIRR of my investments: {xirr:.2f}%\")\n",
    "print(f\"XIRR of sp500: {sp500_xirr:.2f}%\")"
   ]
  },
  {
   "cell_type": "code",
   "execution_count": null,
   "id": "224108b2",
   "metadata": {},
   "outputs": [],
   "source": []
  }
 ],
 "metadata": {
  "kernelspec": {
   "display_name": "base",
   "language": "python",
   "name": "python3"
  },
  "language_info": {
   "codemirror_mode": {
    "name": "ipython",
    "version": 3
   },
   "file_extension": ".py",
   "mimetype": "text/x-python",
   "name": "python",
   "nbconvert_exporter": "python",
   "pygments_lexer": "ipython3",
   "version": "3.13.5"
  }
 },
 "nbformat": 4,
 "nbformat_minor": 5
}
