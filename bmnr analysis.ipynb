{
 "cells": [
  {
   "cell_type": "code",
   "execution_count": 26,
   "id": "00a4dd5f",
   "metadata": {},
   "outputs": [],
   "source": [
    "import pandas as pd\n",
    "import numpy as np\n",
    "from common import *"
   ]
  },
  {
   "cell_type": "code",
   "execution_count": 28,
   "id": "c5d07b13",
   "metadata": {},
   "outputs": [],
   "source": [
    "start_date = pd.Timestamp('2025-06-01')\n",
    "today = pd.Timestamp.today()\n",
    "eth_ticker = 'ETH-USD'\n",
    "bitmine_ticker = 'BMNR'"
   ]
  },
  {
   "cell_type": "code",
   "execution_count": 29,
   "id": "7aab6fbe",
   "metadata": {},
   "outputs": [],
   "source": [
    "bitmine_holdings = pd.DataFrame({\n",
    "    'date': [pd.Timestamp('20250630'), pd.Timestamp('20250708'), pd.Timestamp('20250805'), pd.Timestamp('20250811')],\n",
    "    'eth': [0, 566776, 833137, 1150000]\n",
    "})"
   ]
  },
  {
   "cell_type": "code",
   "execution_count": 30,
   "id": "fccabfee",
   "metadata": {},
   "outputs": [
    {
     "data": {
      "text/html": [
       "<div>\n",
       "<style scoped>\n",
       "    .dataframe tbody tr th:only-of-type {\n",
       "        vertical-align: middle;\n",
       "    }\n",
       "\n",
       "    .dataframe tbody tr th {\n",
       "        vertical-align: top;\n",
       "    }\n",
       "\n",
       "    .dataframe thead th {\n",
       "        text-align: right;\n",
       "    }\n",
       "</style>\n",
       "<table border=\"1\" class=\"dataframe\">\n",
       "  <thead>\n",
       "    <tr style=\"text-align: right;\">\n",
       "      <th></th>\n",
       "      <th>date</th>\n",
       "      <th>eth</th>\n",
       "    </tr>\n",
       "  </thead>\n",
       "  <tbody>\n",
       "    <tr>\n",
       "      <th>0</th>\n",
       "      <td>2025-06-30</td>\n",
       "      <td>0</td>\n",
       "    </tr>\n",
       "    <tr>\n",
       "      <th>1</th>\n",
       "      <td>2025-07-08</td>\n",
       "      <td>566776</td>\n",
       "    </tr>\n",
       "    <tr>\n",
       "      <th>2</th>\n",
       "      <td>2025-08-05</td>\n",
       "      <td>833137</td>\n",
       "    </tr>\n",
       "    <tr>\n",
       "      <th>3</th>\n",
       "      <td>2025-08-11</td>\n",
       "      <td>1150000</td>\n",
       "    </tr>\n",
       "  </tbody>\n",
       "</table>\n",
       "</div>"
      ],
      "text/plain": [
       "        date      eth\n",
       "0 2025-06-30        0\n",
       "1 2025-07-08   566776\n",
       "2 2025-08-05   833137\n",
       "3 2025-08-11  1150000"
      ]
     },
     "execution_count": 30,
     "metadata": {},
     "output_type": "execute_result"
    }
   ],
   "source": [
    "bitmine_holdings"
   ]
  },
  {
   "cell_type": "code",
   "execution_count": 31,
   "id": "1d193192",
   "metadata": {},
   "outputs": [],
   "source": [
    "eth_px_data = get_historical_close_px(eth_ticker, start_date=start_date, end_date=today)\n",
    "assert eth_px_data is not None, \"ETH price data is empty\"\n",
    "\n",
    "bitmine_px_data = get_historical_close_px(bitmine_ticker, start_date=start_date, end_date=today)"
   ]
  },
  {
   "cell_type": "code",
   "execution_count": 32,
   "id": "5273c3b8",
   "metadata": {},
   "outputs": [
    {
     "data": {
      "text/html": [
       "<div>\n",
       "<style scoped>\n",
       "    .dataframe tbody tr th:only-of-type {\n",
       "        vertical-align: middle;\n",
       "    }\n",
       "\n",
       "    .dataframe tbody tr th {\n",
       "        vertical-align: top;\n",
       "    }\n",
       "\n",
       "    .dataframe thead th {\n",
       "        text-align: right;\n",
       "    }\n",
       "</style>\n",
       "<table border=\"1\" class=\"dataframe\">\n",
       "  <thead>\n",
       "    <tr style=\"text-align: right;\">\n",
       "      <th></th>\n",
       "      <th>close</th>\n",
       "    </tr>\n",
       "    <tr>\n",
       "      <th>Date</th>\n",
       "      <th></th>\n",
       "    </tr>\n",
       "  </thead>\n",
       "  <tbody>\n",
       "    <tr>\n",
       "      <th>2025-06-01</th>\n",
       "      <td>2536.27</td>\n",
       "    </tr>\n",
       "    <tr>\n",
       "      <th>2025-06-02</th>\n",
       "      <td>2607.10</td>\n",
       "    </tr>\n",
       "    <tr>\n",
       "      <th>2025-06-03</th>\n",
       "      <td>2593.28</td>\n",
       "    </tr>\n",
       "    <tr>\n",
       "      <th>2025-06-04</th>\n",
       "      <td>2608.64</td>\n",
       "    </tr>\n",
       "    <tr>\n",
       "      <th>2025-06-05</th>\n",
       "      <td>2416.29</td>\n",
       "    </tr>\n",
       "    <tr>\n",
       "      <th>...</th>\n",
       "      <td>...</td>\n",
       "    </tr>\n",
       "    <tr>\n",
       "      <th>2025-08-11</th>\n",
       "      <td>4226.97</td>\n",
       "    </tr>\n",
       "    <tr>\n",
       "      <th>2025-08-12</th>\n",
       "      <td>4590.92</td>\n",
       "    </tr>\n",
       "    <tr>\n",
       "      <th>2025-08-13</th>\n",
       "      <td>4756.28</td>\n",
       "    </tr>\n",
       "    <tr>\n",
       "      <th>2025-08-14</th>\n",
       "      <td>4548.17</td>\n",
       "    </tr>\n",
       "    <tr>\n",
       "      <th>2025-08-15</th>\n",
       "      <td>4635.29</td>\n",
       "    </tr>\n",
       "  </tbody>\n",
       "</table>\n",
       "<p>76 rows × 1 columns</p>\n",
       "</div>"
      ],
      "text/plain": [
       "              close\n",
       "Date               \n",
       "2025-06-01  2536.27\n",
       "2025-06-02  2607.10\n",
       "2025-06-03  2593.28\n",
       "2025-06-04  2608.64\n",
       "2025-06-05  2416.29\n",
       "...             ...\n",
       "2025-08-11  4226.97\n",
       "2025-08-12  4590.92\n",
       "2025-08-13  4756.28\n",
       "2025-08-14  4548.17\n",
       "2025-08-15  4635.29\n",
       "\n",
       "[76 rows x 1 columns]"
      ]
     },
     "execution_count": 32,
     "metadata": {},
     "output_type": "execute_result"
    }
   ],
   "source": [
    "eth_px_data"
   ]
  },
  {
   "cell_type": "code",
   "execution_count": 33,
   "id": "d10ab65d",
   "metadata": {},
   "outputs": [
    {
     "data": {
      "text/plain": [
       "2025-06-05      5785170\n",
       "2025-06-09      1983380\n",
       "2025-06-12      2227360\n",
       "2025-06-13      1983380\n",
       "2025-06-14      4233380\n",
       "2025-06-17      4420540\n",
       "2025-06-18      4171900\n",
       "2025-06-19      6218100\n",
       "2025-06-24      6063300\n",
       "2025-06-25      6063300\n",
       "2025-06-26      6063300\n",
       "2025-06-27      6063300\n",
       "2025-06-28      6063300\n",
       "2025-07-01      6063300\n",
       "2025-07-03      6063300\n",
       "2025-07-04      6063300\n",
       "2025-07-08      7615790\n",
       "2025-07-09     51611400\n",
       "2025-07-10     86251000\n",
       "2025-07-11     51611400\n",
       "2025-07-12     58459900\n",
       "2025-07-15     51611400\n",
       "2025-07-17     51611400\n",
       "2025-07-18     51611400\n",
       "2025-07-19     51611400\n",
       "2025-07-21     55237400\n",
       "2025-07-22     51611400\n",
       "2025-07-24     56384800\n",
       "2025-07-26    112311000\n",
       "2025-07-28    127314000\n",
       "2025-07-29    112311000\n",
       "2025-07-31    112311000\n",
       "2025-08-01    112311000\n",
       "2025-08-02    112311000\n",
       "2025-08-08    112311000\n",
       "2025-08-09    112311000\n",
       "2025-08-14    173496992\n",
       "dtype: int64"
      ]
     },
     "execution_count": 33,
     "metadata": {},
     "output_type": "execute_result"
    }
   ],
   "source": [
    "bitmine_info = yf.Ticker(bitmine_ticker)\n",
    "outstanding_shares = bitmine_info.get_shares_full(start=start_date, end=today)\n",
    "\n",
    "assert outstanding_shares is not None and len(outstanding_shares) > 0, \"Outstanding shares data is empty\"\n",
    "\n",
    "outstanding_shares.index = pd.to_datetime(outstanding_shares.index)\n",
    "if outstanding_shares.index.tz is not None:\n",
    "    outstanding_shares.index = outstanding_shares.index.tz_localize(None)\n",
    "\n",
    "outstanding_shares = outstanding_shares[~outstanding_shares.index.duplicated(keep='last')]\n",
    "outstanding_shares"
   ]
  },
  {
   "cell_type": "code",
   "execution_count": 34,
   "id": "5dc155eb",
   "metadata": {},
   "outputs": [],
   "source": [
    "bitmine_holdings['eth_px'] = bitmine_holdings['date'].apply(lambda x: get_px_for_date(x, eth_px_data))\n",
    "bitmine_holdings['stock_px'] = bitmine_holdings['date'].apply(lambda x: get_px_for_date(x, bitmine_px_data))"
   ]
  },
  {
   "cell_type": "code",
   "execution_count": 35,
   "id": "f6587b7e",
   "metadata": {},
   "outputs": [
    {
     "data": {
      "text/html": [
       "<div>\n",
       "<style scoped>\n",
       "    .dataframe tbody tr th:only-of-type {\n",
       "        vertical-align: middle;\n",
       "    }\n",
       "\n",
       "    .dataframe tbody tr th {\n",
       "        vertical-align: top;\n",
       "    }\n",
       "\n",
       "    .dataframe thead th {\n",
       "        text-align: right;\n",
       "    }\n",
       "</style>\n",
       "<table border=\"1\" class=\"dataframe\">\n",
       "  <thead>\n",
       "    <tr style=\"text-align: right;\">\n",
       "      <th></th>\n",
       "      <th>date</th>\n",
       "      <th>eth</th>\n",
       "      <th>eth_px</th>\n",
       "      <th>nav</th>\n",
       "      <th>stock_px</th>\n",
       "      <th>shares_outstanding</th>\n",
       "      <th>market_cap_in_mil</th>\n",
       "      <th>eth_per_share</th>\n",
       "      <th>nav_per_share</th>\n",
       "      <th>mnav</th>\n",
       "    </tr>\n",
       "  </thead>\n",
       "  <tbody>\n",
       "    <tr>\n",
       "      <th>0</th>\n",
       "      <td>2025-06-01</td>\n",
       "      <td>NaN</td>\n",
       "      <td>2536.27</td>\n",
       "      <td>NaN</td>\n",
       "      <td>7.75</td>\n",
       "      <td>5785170</td>\n",
       "      <td>44.8351</td>\n",
       "      <td>NaN</td>\n",
       "      <td>NaN</td>\n",
       "      <td>NaN</td>\n",
       "    </tr>\n",
       "    <tr>\n",
       "      <th>1</th>\n",
       "      <td>2025-06-02</td>\n",
       "      <td>NaN</td>\n",
       "      <td>2607.10</td>\n",
       "      <td>NaN</td>\n",
       "      <td>7.75</td>\n",
       "      <td>5785170</td>\n",
       "      <td>44.8351</td>\n",
       "      <td>NaN</td>\n",
       "      <td>NaN</td>\n",
       "      <td>NaN</td>\n",
       "    </tr>\n",
       "    <tr>\n",
       "      <th>2</th>\n",
       "      <td>2025-06-03</td>\n",
       "      <td>NaN</td>\n",
       "      <td>2593.28</td>\n",
       "      <td>NaN</td>\n",
       "      <td>7.75</td>\n",
       "      <td>5785170</td>\n",
       "      <td>44.8351</td>\n",
       "      <td>NaN</td>\n",
       "      <td>NaN</td>\n",
       "      <td>NaN</td>\n",
       "    </tr>\n",
       "    <tr>\n",
       "      <th>3</th>\n",
       "      <td>2025-06-04</td>\n",
       "      <td>NaN</td>\n",
       "      <td>2608.64</td>\n",
       "      <td>NaN</td>\n",
       "      <td>7.75</td>\n",
       "      <td>5785170</td>\n",
       "      <td>44.8351</td>\n",
       "      <td>NaN</td>\n",
       "      <td>NaN</td>\n",
       "      <td>NaN</td>\n",
       "    </tr>\n",
       "    <tr>\n",
       "      <th>4</th>\n",
       "      <td>2025-06-05</td>\n",
       "      <td>NaN</td>\n",
       "      <td>2416.29</td>\n",
       "      <td>NaN</td>\n",
       "      <td>7.75</td>\n",
       "      <td>5785170</td>\n",
       "      <td>44.8351</td>\n",
       "      <td>NaN</td>\n",
       "      <td>NaN</td>\n",
       "      <td>NaN</td>\n",
       "    </tr>\n",
       "    <tr>\n",
       "      <th>...</th>\n",
       "      <td>...</td>\n",
       "      <td>...</td>\n",
       "      <td>...</td>\n",
       "      <td>...</td>\n",
       "      <td>...</td>\n",
       "      <td>...</td>\n",
       "      <td>...</td>\n",
       "      <td>...</td>\n",
       "      <td>...</td>\n",
       "      <td>...</td>\n",
       "    </tr>\n",
       "    <tr>\n",
       "      <th>71</th>\n",
       "      <td>2025-08-11</td>\n",
       "      <td>1150000.0</td>\n",
       "      <td>4226.97</td>\n",
       "      <td>4861.0155</td>\n",
       "      <td>58.98</td>\n",
       "      <td>112311000</td>\n",
       "      <td>6624.1028</td>\n",
       "      <td>0.010239</td>\n",
       "      <td>43.2817</td>\n",
       "      <td>1.362701</td>\n",
       "    </tr>\n",
       "    <tr>\n",
       "      <th>72</th>\n",
       "      <td>2025-08-12</td>\n",
       "      <td>1150000.0</td>\n",
       "      <td>4590.92</td>\n",
       "      <td>5279.5580</td>\n",
       "      <td>62.44</td>\n",
       "      <td>173496992</td>\n",
       "      <td>10833.1522</td>\n",
       "      <td>0.006628</td>\n",
       "      <td>30.4303</td>\n",
       "      <td>2.051902</td>\n",
       "    </tr>\n",
       "    <tr>\n",
       "      <th>73</th>\n",
       "      <td>2025-08-13</td>\n",
       "      <td>1150000.0</td>\n",
       "      <td>4756.28</td>\n",
       "      <td>5469.7220</td>\n",
       "      <td>61.63</td>\n",
       "      <td>173496992</td>\n",
       "      <td>10692.6196</td>\n",
       "      <td>0.006628</td>\n",
       "      <td>31.5263</td>\n",
       "      <td>1.954876</td>\n",
       "    </tr>\n",
       "    <tr>\n",
       "      <th>74</th>\n",
       "      <td>2025-08-14</td>\n",
       "      <td>1150000.0</td>\n",
       "      <td>4548.17</td>\n",
       "      <td>5230.3955</td>\n",
       "      <td>60.45</td>\n",
       "      <td>173496992</td>\n",
       "      <td>10487.8932</td>\n",
       "      <td>0.006628</td>\n",
       "      <td>30.1469</td>\n",
       "      <td>2.005181</td>\n",
       "    </tr>\n",
       "    <tr>\n",
       "      <th>75</th>\n",
       "      <td>2025-08-15</td>\n",
       "      <td>1150000.0</td>\n",
       "      <td>4635.29</td>\n",
       "      <td>5330.5835</td>\n",
       "      <td>60.45</td>\n",
       "      <td>173496992</td>\n",
       "      <td>10487.8932</td>\n",
       "      <td>0.006628</td>\n",
       "      <td>30.7244</td>\n",
       "      <td>1.967492</td>\n",
       "    </tr>\n",
       "  </tbody>\n",
       "</table>\n",
       "<p>76 rows × 10 columns</p>\n",
       "</div>"
      ],
      "text/plain": [
       "         date        eth   eth_px        nav  stock_px  shares_outstanding  \\\n",
       "0  2025-06-01        NaN  2536.27        NaN      7.75             5785170   \n",
       "1  2025-06-02        NaN  2607.10        NaN      7.75             5785170   \n",
       "2  2025-06-03        NaN  2593.28        NaN      7.75             5785170   \n",
       "3  2025-06-04        NaN  2608.64        NaN      7.75             5785170   \n",
       "4  2025-06-05        NaN  2416.29        NaN      7.75             5785170   \n",
       "..        ...        ...      ...        ...       ...                 ...   \n",
       "71 2025-08-11  1150000.0  4226.97  4861.0155     58.98           112311000   \n",
       "72 2025-08-12  1150000.0  4590.92  5279.5580     62.44           173496992   \n",
       "73 2025-08-13  1150000.0  4756.28  5469.7220     61.63           173496992   \n",
       "74 2025-08-14  1150000.0  4548.17  5230.3955     60.45           173496992   \n",
       "75 2025-08-15  1150000.0  4635.29  5330.5835     60.45           173496992   \n",
       "\n",
       "    market_cap_in_mil  eth_per_share  nav_per_share      mnav  \n",
       "0             44.8351            NaN            NaN       NaN  \n",
       "1             44.8351            NaN            NaN       NaN  \n",
       "2             44.8351            NaN            NaN       NaN  \n",
       "3             44.8351            NaN            NaN       NaN  \n",
       "4             44.8351            NaN            NaN       NaN  \n",
       "..                ...            ...            ...       ...  \n",
       "71          6624.1028       0.010239        43.2817  1.362701  \n",
       "72         10833.1522       0.006628        30.4303  2.051902  \n",
       "73         10692.6196       0.006628        31.5263  1.954876  \n",
       "74         10487.8932       0.006628        30.1469  2.005181  \n",
       "75         10487.8932       0.006628        30.7244  1.967492  \n",
       "\n",
       "[76 rows x 10 columns]"
      ]
     },
     "execution_count": 35,
     "metadata": {},
     "output_type": "execute_result"
    }
   ],
   "source": [
    "date_range = pd.date_range(start=start_date, end=today, freq='D')\n",
    "daily_holdings = pd.DataFrame({'date': date_range})\n",
    "\n",
    "daily_holdings = daily_holdings.merge(bitmine_holdings, on='date', how='left')\n",
    "daily_holdings['eth'] = daily_holdings['eth'].ffill().round(0)\n",
    "\n",
    "daily_holdings['shares_outstanding'] = daily_holdings['date'].apply(lambda x: get_px_for_date(x, outstanding_shares))\n",
    "daily_holdings['eth_px'] = daily_holdings['date'].apply(lambda x: get_px_for_date(x, eth_px_data))\n",
    "daily_holdings['stock_px'] = daily_holdings['date'].apply(lambda x: get_px_for_date(x, bitmine_px_data))\n",
    "\n",
    "daily_holdings['nav'] = ((daily_holdings['eth'] * daily_holdings['eth_px']) / 1_000_000).round(4)\n",
    "daily_holdings['market_cap_in_mil'] = ((daily_holdings['stock_px'] * daily_holdings['shares_outstanding']) / 1_000_000).round(4)\n",
    "daily_holdings['eth_per_share'] = (daily_holdings['eth'] / daily_holdings['shares_outstanding']).round(6)\n",
    "daily_holdings['nav_per_share'] = ((daily_holdings['eth'] * daily_holdings['eth_px']) / daily_holdings['shares_outstanding']).round(4)\n",
    "daily_holdings['mnav'] = daily_holdings['stock_px'] / daily_holdings['nav_per_share']\n",
    "\n",
    "daily_holdings = daily_holdings.sort_values('date')\n",
    "result = daily_holdings[['date', 'eth', 'eth_px', 'nav', 'stock_px', 'shares_outstanding', \n",
    "                'market_cap_in_mil', 'eth_per_share', 'nav_per_share', 'mnav']].reset_index(drop=True)\n",
    "result"
   ]
  },
  {
   "cell_type": "code",
   "execution_count": 38,
   "id": "4c965b29",
   "metadata": {},
   "outputs": [
    {
     "data": {
      "text/html": [
       "<div>\n",
       "<style scoped>\n",
       "    .dataframe tbody tr th:only-of-type {\n",
       "        vertical-align: middle;\n",
       "    }\n",
       "\n",
       "    .dataframe tbody tr th {\n",
       "        vertical-align: top;\n",
       "    }\n",
       "\n",
       "    .dataframe thead th {\n",
       "        text-align: right;\n",
       "    }\n",
       "</style>\n",
       "<table border=\"1\" class=\"dataframe\">\n",
       "  <thead>\n",
       "    <tr style=\"text-align: right;\">\n",
       "      <th></th>\n",
       "      <th>date</th>\n",
       "      <th>eth</th>\n",
       "      <th>eth_px</th>\n",
       "      <th>nav</th>\n",
       "      <th>stock_px</th>\n",
       "      <th>shares_outstanding</th>\n",
       "      <th>market_cap_in_mil</th>\n",
       "      <th>eth_per_share</th>\n",
       "      <th>nav_per_share</th>\n",
       "      <th>mnav</th>\n",
       "    </tr>\n",
       "  </thead>\n",
       "  <tbody>\n",
       "    <tr>\n",
       "      <th>37</th>\n",
       "      <td>2025-07-08</td>\n",
       "      <td>566776.0</td>\n",
       "      <td>2615.51</td>\n",
       "      <td>1482.4083</td>\n",
       "      <td>111.50</td>\n",
       "      <td>7615790</td>\n",
       "      <td>849.1606</td>\n",
       "      <td>0.074421</td>\n",
       "      <td>194.6493</td>\n",
       "      <td>0.572825</td>\n",
       "    </tr>\n",
       "    <tr>\n",
       "      <th>38</th>\n",
       "      <td>2025-07-09</td>\n",
       "      <td>566776.0</td>\n",
       "      <td>2770.78</td>\n",
       "      <td>1570.4116</td>\n",
       "      <td>66.72</td>\n",
       "      <td>51611400</td>\n",
       "      <td>3443.5126</td>\n",
       "      <td>0.010982</td>\n",
       "      <td>30.4276</td>\n",
       "      <td>2.192746</td>\n",
       "    </tr>\n",
       "    <tr>\n",
       "      <th>39</th>\n",
       "      <td>2025-07-10</td>\n",
       "      <td>566776.0</td>\n",
       "      <td>2954.85</td>\n",
       "      <td>1674.7381</td>\n",
       "      <td>46.01</td>\n",
       "      <td>86251000</td>\n",
       "      <td>3968.4085</td>\n",
       "      <td>0.006571</td>\n",
       "      <td>19.4170</td>\n",
       "      <td>2.369573</td>\n",
       "    </tr>\n",
       "    <tr>\n",
       "      <th>40</th>\n",
       "      <td>2025-07-11</td>\n",
       "      <td>566776.0</td>\n",
       "      <td>2957.89</td>\n",
       "      <td>1676.4611</td>\n",
       "      <td>40.62</td>\n",
       "      <td>51611400</td>\n",
       "      <td>2096.4551</td>\n",
       "      <td>0.010982</td>\n",
       "      <td>32.4824</td>\n",
       "      <td>1.250523</td>\n",
       "    </tr>\n",
       "    <tr>\n",
       "      <th>41</th>\n",
       "      <td>2025-07-12</td>\n",
       "      <td>566776.0</td>\n",
       "      <td>2942.91</td>\n",
       "      <td>1667.9708</td>\n",
       "      <td>40.62</td>\n",
       "      <td>58459900</td>\n",
       "      <td>2374.6411</td>\n",
       "      <td>0.009695</td>\n",
       "      <td>28.5319</td>\n",
       "      <td>1.423670</td>\n",
       "    </tr>\n",
       "    <tr>\n",
       "      <th>42</th>\n",
       "      <td>2025-07-13</td>\n",
       "      <td>566776.0</td>\n",
       "      <td>2973.36</td>\n",
       "      <td>1685.2291</td>\n",
       "      <td>41.02</td>\n",
       "      <td>58459900</td>\n",
       "      <td>2398.0251</td>\n",
       "      <td>0.009695</td>\n",
       "      <td>28.8271</td>\n",
       "      <td>1.422967</td>\n",
       "    </tr>\n",
       "    <tr>\n",
       "      <th>43</th>\n",
       "      <td>2025-07-14</td>\n",
       "      <td>566776.0</td>\n",
       "      <td>3013.35</td>\n",
       "      <td>1707.8945</td>\n",
       "      <td>41.02</td>\n",
       "      <td>51611400</td>\n",
       "      <td>2117.0996</td>\n",
       "      <td>0.010982</td>\n",
       "      <td>33.0914</td>\n",
       "      <td>1.239597</td>\n",
       "    </tr>\n",
       "    <tr>\n",
       "      <th>44</th>\n",
       "      <td>2025-07-15</td>\n",
       "      <td>566776.0</td>\n",
       "      <td>3139.89</td>\n",
       "      <td>1779.6143</td>\n",
       "      <td>39.96</td>\n",
       "      <td>51611400</td>\n",
       "      <td>2062.3915</td>\n",
       "      <td>0.010982</td>\n",
       "      <td>34.4810</td>\n",
       "      <td>1.158899</td>\n",
       "    </tr>\n",
       "    <tr>\n",
       "      <th>45</th>\n",
       "      <td>2025-07-16</td>\n",
       "      <td>566776.0</td>\n",
       "      <td>3371.51</td>\n",
       "      <td>1910.8910</td>\n",
       "      <td>44.80</td>\n",
       "      <td>51611400</td>\n",
       "      <td>2312.1907</td>\n",
       "      <td>0.010982</td>\n",
       "      <td>37.0246</td>\n",
       "      <td>1.210006</td>\n",
       "    </tr>\n",
       "    <tr>\n",
       "      <th>46</th>\n",
       "      <td>2025-07-17</td>\n",
       "      <td>566776.0</td>\n",
       "      <td>3476.78</td>\n",
       "      <td>1970.5555</td>\n",
       "      <td>41.90</td>\n",
       "      <td>51611400</td>\n",
       "      <td>2162.5177</td>\n",
       "      <td>0.010982</td>\n",
       "      <td>38.1806</td>\n",
       "      <td>1.097416</td>\n",
       "    </tr>\n",
       "    <tr>\n",
       "      <th>47</th>\n",
       "      <td>2025-07-18</td>\n",
       "      <td>566776.0</td>\n",
       "      <td>3549.02</td>\n",
       "      <td>2011.4994</td>\n",
       "      <td>42.35</td>\n",
       "      <td>51611400</td>\n",
       "      <td>2185.7428</td>\n",
       "      <td>0.010982</td>\n",
       "      <td>38.9739</td>\n",
       "      <td>1.086625</td>\n",
       "    </tr>\n",
       "    <tr>\n",
       "      <th>48</th>\n",
       "      <td>2025-07-19</td>\n",
       "      <td>566776.0</td>\n",
       "      <td>3595.27</td>\n",
       "      <td>2037.7127</td>\n",
       "      <td>42.35</td>\n",
       "      <td>51611400</td>\n",
       "      <td>2185.7428</td>\n",
       "      <td>0.010982</td>\n",
       "      <td>39.4818</td>\n",
       "      <td>1.072646</td>\n",
       "    </tr>\n",
       "    <tr>\n",
       "      <th>49</th>\n",
       "      <td>2025-07-20</td>\n",
       "      <td>566776.0</td>\n",
       "      <td>3759.47</td>\n",
       "      <td>2130.7774</td>\n",
       "      <td>39.57</td>\n",
       "      <td>51611400</td>\n",
       "      <td>2042.2631</td>\n",
       "      <td>0.010982</td>\n",
       "      <td>41.2850</td>\n",
       "      <td>0.958459</td>\n",
       "    </tr>\n",
       "    <tr>\n",
       "      <th>50</th>\n",
       "      <td>2025-07-21</td>\n",
       "      <td>566776.0</td>\n",
       "      <td>3763.37</td>\n",
       "      <td>2132.9878</td>\n",
       "      <td>39.57</td>\n",
       "      <td>55237400</td>\n",
       "      <td>2185.7439</td>\n",
       "      <td>0.010261</td>\n",
       "      <td>38.6149</td>\n",
       "      <td>1.024734</td>\n",
       "    </tr>\n",
       "    <tr>\n",
       "      <th>51</th>\n",
       "      <td>2025-07-22</td>\n",
       "      <td>566776.0</td>\n",
       "      <td>3749.15</td>\n",
       "      <td>2124.9282</td>\n",
       "      <td>40.33</td>\n",
       "      <td>51611400</td>\n",
       "      <td>2081.4878</td>\n",
       "      <td>0.010982</td>\n",
       "      <td>41.1717</td>\n",
       "      <td>0.979556</td>\n",
       "    </tr>\n",
       "    <tr>\n",
       "      <th>52</th>\n",
       "      <td>2025-07-23</td>\n",
       "      <td>566776.0</td>\n",
       "      <td>3629.70</td>\n",
       "      <td>2057.2268</td>\n",
       "      <td>39.50</td>\n",
       "      <td>51611400</td>\n",
       "      <td>2038.6503</td>\n",
       "      <td>0.010982</td>\n",
       "      <td>39.8599</td>\n",
       "      <td>0.990971</td>\n",
       "    </tr>\n",
       "    <tr>\n",
       "      <th>53</th>\n",
       "      <td>2025-07-24</td>\n",
       "      <td>566776.0</td>\n",
       "      <td>3708.01</td>\n",
       "      <td>2101.6111</td>\n",
       "      <td>41.75</td>\n",
       "      <td>56384800</td>\n",
       "      <td>2354.0654</td>\n",
       "      <td>0.010052</td>\n",
       "      <td>37.2727</td>\n",
       "      <td>1.120123</td>\n",
       "    </tr>\n",
       "    <tr>\n",
       "      <th>54</th>\n",
       "      <td>2025-07-25</td>\n",
       "      <td>566776.0</td>\n",
       "      <td>3727.27</td>\n",
       "      <td>2112.5272</td>\n",
       "      <td>39.80</td>\n",
       "      <td>56384800</td>\n",
       "      <td>2244.1150</td>\n",
       "      <td>0.010052</td>\n",
       "      <td>37.4663</td>\n",
       "      <td>1.062288</td>\n",
       "    </tr>\n",
       "    <tr>\n",
       "      <th>55</th>\n",
       "      <td>2025-07-26</td>\n",
       "      <td>566776.0</td>\n",
       "      <td>3741.40</td>\n",
       "      <td>2120.5357</td>\n",
       "      <td>39.80</td>\n",
       "      <td>112311000</td>\n",
       "      <td>4469.9778</td>\n",
       "      <td>0.005046</td>\n",
       "      <td>18.8809</td>\n",
       "      <td>2.107950</td>\n",
       "    </tr>\n",
       "    <tr>\n",
       "      <th>56</th>\n",
       "      <td>2025-07-27</td>\n",
       "      <td>566776.0</td>\n",
       "      <td>3875.25</td>\n",
       "      <td>2196.3987</td>\n",
       "      <td>35.11</td>\n",
       "      <td>112311000</td>\n",
       "      <td>3943.2392</td>\n",
       "      <td>0.005046</td>\n",
       "      <td>19.5564</td>\n",
       "      <td>1.795320</td>\n",
       "    </tr>\n",
       "    <tr>\n",
       "      <th>57</th>\n",
       "      <td>2025-07-28</td>\n",
       "      <td>566776.0</td>\n",
       "      <td>3787.43</td>\n",
       "      <td>2146.6244</td>\n",
       "      <td>35.11</td>\n",
       "      <td>127314000</td>\n",
       "      <td>4469.9945</td>\n",
       "      <td>0.004452</td>\n",
       "      <td>16.8609</td>\n",
       "      <td>2.082332</td>\n",
       "    </tr>\n",
       "    <tr>\n",
       "      <th>58</th>\n",
       "      <td>2025-07-29</td>\n",
       "      <td>566776.0</td>\n",
       "      <td>3793.45</td>\n",
       "      <td>2150.0364</td>\n",
       "      <td>32.00</td>\n",
       "      <td>112311000</td>\n",
       "      <td>3593.9520</td>\n",
       "      <td>0.005046</td>\n",
       "      <td>19.1436</td>\n",
       "      <td>1.671577</td>\n",
       "    </tr>\n",
       "    <tr>\n",
       "      <th>59</th>\n",
       "      <td>2025-07-30</td>\n",
       "      <td>566776.0</td>\n",
       "      <td>3808.20</td>\n",
       "      <td>2158.3964</td>\n",
       "      <td>34.40</td>\n",
       "      <td>112311000</td>\n",
       "      <td>3863.4984</td>\n",
       "      <td>0.005046</td>\n",
       "      <td>19.2180</td>\n",
       "      <td>1.789989</td>\n",
       "    </tr>\n",
       "    <tr>\n",
       "      <th>60</th>\n",
       "      <td>2025-07-31</td>\n",
       "      <td>566776.0</td>\n",
       "      <td>3696.71</td>\n",
       "      <td>2095.2065</td>\n",
       "      <td>34.64</td>\n",
       "      <td>112311000</td>\n",
       "      <td>3890.4530</td>\n",
       "      <td>0.005046</td>\n",
       "      <td>18.6554</td>\n",
       "      <td>1.856835</td>\n",
       "    </tr>\n",
       "    <tr>\n",
       "      <th>61</th>\n",
       "      <td>2025-08-01</td>\n",
       "      <td>566776.0</td>\n",
       "      <td>3488.37</td>\n",
       "      <td>1977.1244</td>\n",
       "      <td>31.68</td>\n",
       "      <td>112311000</td>\n",
       "      <td>3558.0125</td>\n",
       "      <td>0.005046</td>\n",
       "      <td>17.6040</td>\n",
       "      <td>1.799591</td>\n",
       "    </tr>\n",
       "    <tr>\n",
       "      <th>62</th>\n",
       "      <td>2025-08-02</td>\n",
       "      <td>566776.0</td>\n",
       "      <td>3392.74</td>\n",
       "      <td>1922.9236</td>\n",
       "      <td>31.68</td>\n",
       "      <td>112311000</td>\n",
       "      <td>3558.0125</td>\n",
       "      <td>0.005046</td>\n",
       "      <td>17.1214</td>\n",
       "      <td>1.850316</td>\n",
       "    </tr>\n",
       "    <tr>\n",
       "      <th>63</th>\n",
       "      <td>2025-08-03</td>\n",
       "      <td>566776.0</td>\n",
       "      <td>3497.38</td>\n",
       "      <td>1982.2310</td>\n",
       "      <td>31.13</td>\n",
       "      <td>112311000</td>\n",
       "      <td>3496.2414</td>\n",
       "      <td>0.005046</td>\n",
       "      <td>17.6495</td>\n",
       "      <td>1.763789</td>\n",
       "    </tr>\n",
       "    <tr>\n",
       "      <th>64</th>\n",
       "      <td>2025-08-04</td>\n",
       "      <td>566776.0</td>\n",
       "      <td>3718.99</td>\n",
       "      <td>2107.8343</td>\n",
       "      <td>31.13</td>\n",
       "      <td>112311000</td>\n",
       "      <td>3496.2414</td>\n",
       "      <td>0.005046</td>\n",
       "      <td>18.7678</td>\n",
       "      <td>1.658692</td>\n",
       "    </tr>\n",
       "    <tr>\n",
       "      <th>65</th>\n",
       "      <td>2025-08-05</td>\n",
       "      <td>833137.0</td>\n",
       "      <td>3611.90</td>\n",
       "      <td>3009.2075</td>\n",
       "      <td>33.30</td>\n",
       "      <td>112311000</td>\n",
       "      <td>3739.9563</td>\n",
       "      <td>0.007418</td>\n",
       "      <td>26.7935</td>\n",
       "      <td>1.242839</td>\n",
       "    </tr>\n",
       "    <tr>\n",
       "      <th>66</th>\n",
       "      <td>2025-08-06</td>\n",
       "      <td>833137.0</td>\n",
       "      <td>3683.92</td>\n",
       "      <td>3069.2101</td>\n",
       "      <td>38.47</td>\n",
       "      <td>112311000</td>\n",
       "      <td>4320.6042</td>\n",
       "      <td>0.007418</td>\n",
       "      <td>27.3278</td>\n",
       "      <td>1.407724</td>\n",
       "    </tr>\n",
       "    <tr>\n",
       "      <th>67</th>\n",
       "      <td>2025-08-07</td>\n",
       "      <td>833137.0</td>\n",
       "      <td>3914.33</td>\n",
       "      <td>3261.1732</td>\n",
       "      <td>41.28</td>\n",
       "      <td>112311000</td>\n",
       "      <td>4636.1981</td>\n",
       "      <td>0.007418</td>\n",
       "      <td>29.0370</td>\n",
       "      <td>1.421634</td>\n",
       "    </tr>\n",
       "    <tr>\n",
       "      <th>68</th>\n",
       "      <td>2025-08-08</td>\n",
       "      <td>833137.0</td>\n",
       "      <td>4009.85</td>\n",
       "      <td>3340.7544</td>\n",
       "      <td>51.43</td>\n",
       "      <td>112311000</td>\n",
       "      <td>5776.1547</td>\n",
       "      <td>0.007418</td>\n",
       "      <td>29.7456</td>\n",
       "      <td>1.728995</td>\n",
       "    </tr>\n",
       "    <tr>\n",
       "      <th>69</th>\n",
       "      <td>2025-08-09</td>\n",
       "      <td>833137.0</td>\n",
       "      <td>4263.60</td>\n",
       "      <td>3552.1629</td>\n",
       "      <td>51.43</td>\n",
       "      <td>112311000</td>\n",
       "      <td>5776.1547</td>\n",
       "      <td>0.007418</td>\n",
       "      <td>31.6279</td>\n",
       "      <td>1.626096</td>\n",
       "    </tr>\n",
       "    <tr>\n",
       "      <th>70</th>\n",
       "      <td>2025-08-10</td>\n",
       "      <td>833137.0</td>\n",
       "      <td>4254.22</td>\n",
       "      <td>3544.3481</td>\n",
       "      <td>58.98</td>\n",
       "      <td>112311000</td>\n",
       "      <td>6624.1028</td>\n",
       "      <td>0.007418</td>\n",
       "      <td>31.5583</td>\n",
       "      <td>1.868922</td>\n",
       "    </tr>\n",
       "    <tr>\n",
       "      <th>71</th>\n",
       "      <td>2025-08-11</td>\n",
       "      <td>1150000.0</td>\n",
       "      <td>4226.97</td>\n",
       "      <td>4861.0155</td>\n",
       "      <td>58.98</td>\n",
       "      <td>112311000</td>\n",
       "      <td>6624.1028</td>\n",
       "      <td>0.010239</td>\n",
       "      <td>43.2817</td>\n",
       "      <td>1.362701</td>\n",
       "    </tr>\n",
       "    <tr>\n",
       "      <th>72</th>\n",
       "      <td>2025-08-12</td>\n",
       "      <td>1150000.0</td>\n",
       "      <td>4590.92</td>\n",
       "      <td>5279.5580</td>\n",
       "      <td>62.44</td>\n",
       "      <td>173496992</td>\n",
       "      <td>10833.1522</td>\n",
       "      <td>0.006628</td>\n",
       "      <td>30.4303</td>\n",
       "      <td>2.051902</td>\n",
       "    </tr>\n",
       "    <tr>\n",
       "      <th>73</th>\n",
       "      <td>2025-08-13</td>\n",
       "      <td>1150000.0</td>\n",
       "      <td>4756.28</td>\n",
       "      <td>5469.7220</td>\n",
       "      <td>61.63</td>\n",
       "      <td>173496992</td>\n",
       "      <td>10692.6196</td>\n",
       "      <td>0.006628</td>\n",
       "      <td>31.5263</td>\n",
       "      <td>1.954876</td>\n",
       "    </tr>\n",
       "    <tr>\n",
       "      <th>74</th>\n",
       "      <td>2025-08-14</td>\n",
       "      <td>1150000.0</td>\n",
       "      <td>4548.17</td>\n",
       "      <td>5230.3955</td>\n",
       "      <td>60.45</td>\n",
       "      <td>173496992</td>\n",
       "      <td>10487.8932</td>\n",
       "      <td>0.006628</td>\n",
       "      <td>30.1469</td>\n",
       "      <td>2.005181</td>\n",
       "    </tr>\n",
       "    <tr>\n",
       "      <th>75</th>\n",
       "      <td>2025-08-15</td>\n",
       "      <td>1150000.0</td>\n",
       "      <td>4635.29</td>\n",
       "      <td>5330.5835</td>\n",
       "      <td>60.45</td>\n",
       "      <td>173496992</td>\n",
       "      <td>10487.8932</td>\n",
       "      <td>0.006628</td>\n",
       "      <td>30.7244</td>\n",
       "      <td>1.967492</td>\n",
       "    </tr>\n",
       "  </tbody>\n",
       "</table>\n",
       "</div>"
      ],
      "text/plain": [
       "         date        eth   eth_px        nav  stock_px  shares_outstanding  \\\n",
       "37 2025-07-08   566776.0  2615.51  1482.4083    111.50             7615790   \n",
       "38 2025-07-09   566776.0  2770.78  1570.4116     66.72            51611400   \n",
       "39 2025-07-10   566776.0  2954.85  1674.7381     46.01            86251000   \n",
       "40 2025-07-11   566776.0  2957.89  1676.4611     40.62            51611400   \n",
       "41 2025-07-12   566776.0  2942.91  1667.9708     40.62            58459900   \n",
       "42 2025-07-13   566776.0  2973.36  1685.2291     41.02            58459900   \n",
       "43 2025-07-14   566776.0  3013.35  1707.8945     41.02            51611400   \n",
       "44 2025-07-15   566776.0  3139.89  1779.6143     39.96            51611400   \n",
       "45 2025-07-16   566776.0  3371.51  1910.8910     44.80            51611400   \n",
       "46 2025-07-17   566776.0  3476.78  1970.5555     41.90            51611400   \n",
       "47 2025-07-18   566776.0  3549.02  2011.4994     42.35            51611400   \n",
       "48 2025-07-19   566776.0  3595.27  2037.7127     42.35            51611400   \n",
       "49 2025-07-20   566776.0  3759.47  2130.7774     39.57            51611400   \n",
       "50 2025-07-21   566776.0  3763.37  2132.9878     39.57            55237400   \n",
       "51 2025-07-22   566776.0  3749.15  2124.9282     40.33            51611400   \n",
       "52 2025-07-23   566776.0  3629.70  2057.2268     39.50            51611400   \n",
       "53 2025-07-24   566776.0  3708.01  2101.6111     41.75            56384800   \n",
       "54 2025-07-25   566776.0  3727.27  2112.5272     39.80            56384800   \n",
       "55 2025-07-26   566776.0  3741.40  2120.5357     39.80           112311000   \n",
       "56 2025-07-27   566776.0  3875.25  2196.3987     35.11           112311000   \n",
       "57 2025-07-28   566776.0  3787.43  2146.6244     35.11           127314000   \n",
       "58 2025-07-29   566776.0  3793.45  2150.0364     32.00           112311000   \n",
       "59 2025-07-30   566776.0  3808.20  2158.3964     34.40           112311000   \n",
       "60 2025-07-31   566776.0  3696.71  2095.2065     34.64           112311000   \n",
       "61 2025-08-01   566776.0  3488.37  1977.1244     31.68           112311000   \n",
       "62 2025-08-02   566776.0  3392.74  1922.9236     31.68           112311000   \n",
       "63 2025-08-03   566776.0  3497.38  1982.2310     31.13           112311000   \n",
       "64 2025-08-04   566776.0  3718.99  2107.8343     31.13           112311000   \n",
       "65 2025-08-05   833137.0  3611.90  3009.2075     33.30           112311000   \n",
       "66 2025-08-06   833137.0  3683.92  3069.2101     38.47           112311000   \n",
       "67 2025-08-07   833137.0  3914.33  3261.1732     41.28           112311000   \n",
       "68 2025-08-08   833137.0  4009.85  3340.7544     51.43           112311000   \n",
       "69 2025-08-09   833137.0  4263.60  3552.1629     51.43           112311000   \n",
       "70 2025-08-10   833137.0  4254.22  3544.3481     58.98           112311000   \n",
       "71 2025-08-11  1150000.0  4226.97  4861.0155     58.98           112311000   \n",
       "72 2025-08-12  1150000.0  4590.92  5279.5580     62.44           173496992   \n",
       "73 2025-08-13  1150000.0  4756.28  5469.7220     61.63           173496992   \n",
       "74 2025-08-14  1150000.0  4548.17  5230.3955     60.45           173496992   \n",
       "75 2025-08-15  1150000.0  4635.29  5330.5835     60.45           173496992   \n",
       "\n",
       "    market_cap_in_mil  eth_per_share  nav_per_share      mnav  \n",
       "37           849.1606       0.074421       194.6493  0.572825  \n",
       "38          3443.5126       0.010982        30.4276  2.192746  \n",
       "39          3968.4085       0.006571        19.4170  2.369573  \n",
       "40          2096.4551       0.010982        32.4824  1.250523  \n",
       "41          2374.6411       0.009695        28.5319  1.423670  \n",
       "42          2398.0251       0.009695        28.8271  1.422967  \n",
       "43          2117.0996       0.010982        33.0914  1.239597  \n",
       "44          2062.3915       0.010982        34.4810  1.158899  \n",
       "45          2312.1907       0.010982        37.0246  1.210006  \n",
       "46          2162.5177       0.010982        38.1806  1.097416  \n",
       "47          2185.7428       0.010982        38.9739  1.086625  \n",
       "48          2185.7428       0.010982        39.4818  1.072646  \n",
       "49          2042.2631       0.010982        41.2850  0.958459  \n",
       "50          2185.7439       0.010261        38.6149  1.024734  \n",
       "51          2081.4878       0.010982        41.1717  0.979556  \n",
       "52          2038.6503       0.010982        39.8599  0.990971  \n",
       "53          2354.0654       0.010052        37.2727  1.120123  \n",
       "54          2244.1150       0.010052        37.4663  1.062288  \n",
       "55          4469.9778       0.005046        18.8809  2.107950  \n",
       "56          3943.2392       0.005046        19.5564  1.795320  \n",
       "57          4469.9945       0.004452        16.8609  2.082332  \n",
       "58          3593.9520       0.005046        19.1436  1.671577  \n",
       "59          3863.4984       0.005046        19.2180  1.789989  \n",
       "60          3890.4530       0.005046        18.6554  1.856835  \n",
       "61          3558.0125       0.005046        17.6040  1.799591  \n",
       "62          3558.0125       0.005046        17.1214  1.850316  \n",
       "63          3496.2414       0.005046        17.6495  1.763789  \n",
       "64          3496.2414       0.005046        18.7678  1.658692  \n",
       "65          3739.9563       0.007418        26.7935  1.242839  \n",
       "66          4320.6042       0.007418        27.3278  1.407724  \n",
       "67          4636.1981       0.007418        29.0370  1.421634  \n",
       "68          5776.1547       0.007418        29.7456  1.728995  \n",
       "69          5776.1547       0.007418        31.6279  1.626096  \n",
       "70          6624.1028       0.007418        31.5583  1.868922  \n",
       "71          6624.1028       0.010239        43.2817  1.362701  \n",
       "72         10833.1522       0.006628        30.4303  2.051902  \n",
       "73         10692.6196       0.006628        31.5263  1.954876  \n",
       "74         10487.8932       0.006628        30.1469  2.005181  \n",
       "75         10487.8932       0.006628        30.7244  1.967492  "
      ]
     },
     "execution_count": 38,
     "metadata": {},
     "output_type": "execute_result"
    }
   ],
   "source": [
    "result[result['date'] >= pd.Timestamp('2025-07-08')]"
   ]
  },
  {
   "cell_type": "code",
   "execution_count": 36,
   "id": "91f28250",
   "metadata": {},
   "outputs": [
    {
     "data": {
      "application/vnd.plotly.v1+json": {
       "config": {
        "plotlyServerURL": "https://plot.ly"
       },
       "data": [
        {
         "name": "ETH Holdings",
         "type": "scatter",
         "x": [
          "2025-06-01T00:00:00",
          "2025-06-02T00:00:00",
          "2025-06-03T00:00:00",
          "2025-06-04T00:00:00",
          "2025-06-05T00:00:00",
          "2025-06-06T00:00:00",
          "2025-06-07T00:00:00",
          "2025-06-08T00:00:00",
          "2025-06-09T00:00:00",
          "2025-06-10T00:00:00",
          "2025-06-11T00:00:00",
          "2025-06-12T00:00:00",
          "2025-06-13T00:00:00",
          "2025-06-14T00:00:00",
          "2025-06-15T00:00:00",
          "2025-06-16T00:00:00",
          "2025-06-17T00:00:00",
          "2025-06-18T00:00:00",
          "2025-06-19T00:00:00",
          "2025-06-20T00:00:00",
          "2025-06-21T00:00:00",
          "2025-06-22T00:00:00",
          "2025-06-23T00:00:00",
          "2025-06-24T00:00:00",
          "2025-06-25T00:00:00",
          "2025-06-26T00:00:00",
          "2025-06-27T00:00:00",
          "2025-06-28T00:00:00",
          "2025-06-29T00:00:00",
          "2025-06-30T00:00:00",
          "2025-07-01T00:00:00",
          "2025-07-02T00:00:00",
          "2025-07-03T00:00:00",
          "2025-07-04T00:00:00",
          "2025-07-05T00:00:00",
          "2025-07-06T00:00:00",
          "2025-07-07T00:00:00",
          "2025-07-08T00:00:00",
          "2025-07-09T00:00:00",
          "2025-07-10T00:00:00",
          "2025-07-11T00:00:00",
          "2025-07-12T00:00:00",
          "2025-07-13T00:00:00",
          "2025-07-14T00:00:00",
          "2025-07-15T00:00:00",
          "2025-07-16T00:00:00",
          "2025-07-17T00:00:00",
          "2025-07-18T00:00:00",
          "2025-07-19T00:00:00",
          "2025-07-20T00:00:00",
          "2025-07-21T00:00:00",
          "2025-07-22T00:00:00",
          "2025-07-23T00:00:00",
          "2025-07-24T00:00:00",
          "2025-07-25T00:00:00",
          "2025-07-26T00:00:00",
          "2025-07-27T00:00:00",
          "2025-07-28T00:00:00",
          "2025-07-29T00:00:00",
          "2025-07-30T00:00:00",
          "2025-07-31T00:00:00",
          "2025-08-01T00:00:00",
          "2025-08-02T00:00:00",
          "2025-08-03T00:00:00",
          "2025-08-04T00:00:00",
          "2025-08-05T00:00:00",
          "2025-08-06T00:00:00",
          "2025-08-07T00:00:00",
          "2025-08-08T00:00:00",
          "2025-08-09T00:00:00",
          "2025-08-10T00:00:00",
          "2025-08-11T00:00:00",
          "2025-08-12T00:00:00",
          "2025-08-13T00:00:00",
          "2025-08-14T00:00:00",
          "2025-08-15T00:00:00"
         ],
         "xaxis": "x",
         "y": [
          null,
          null,
          null,
          null,
          null,
          null,
          null,
          null,
          null,
          null,
          null,
          null,
          null,
          null,
          null,
          null,
          null,
          null,
          null,
          null,
          null,
          null,
          null,
          null,
          null,
          null,
          null,
          null,
          null,
          0,
          0,
          0,
          0,
          0,
          0,
          0,
          0,
          566776,
          566776,
          566776,
          566776,
          566776,
          566776,
          566776,
          566776,
          566776,
          566776,
          566776,
          566776,
          566776,
          566776,
          566776,
          566776,
          566776,
          566776,
          566776,
          566776,
          566776,
          566776,
          566776,
          566776,
          566776,
          566776,
          566776,
          566776,
          833137,
          833137,
          833137,
          833137,
          833137,
          833137,
          1150000,
          1150000,
          1150000,
          1150000,
          1150000
         ],
         "yaxis": "y"
        },
        {
         "name": "Shares Outstanding",
         "type": "scatter",
         "x": [
          "2025-06-01T00:00:00",
          "2025-06-02T00:00:00",
          "2025-06-03T00:00:00",
          "2025-06-04T00:00:00",
          "2025-06-05T00:00:00",
          "2025-06-06T00:00:00",
          "2025-06-07T00:00:00",
          "2025-06-08T00:00:00",
          "2025-06-09T00:00:00",
          "2025-06-10T00:00:00",
          "2025-06-11T00:00:00",
          "2025-06-12T00:00:00",
          "2025-06-13T00:00:00",
          "2025-06-14T00:00:00",
          "2025-06-15T00:00:00",
          "2025-06-16T00:00:00",
          "2025-06-17T00:00:00",
          "2025-06-18T00:00:00",
          "2025-06-19T00:00:00",
          "2025-06-20T00:00:00",
          "2025-06-21T00:00:00",
          "2025-06-22T00:00:00",
          "2025-06-23T00:00:00",
          "2025-06-24T00:00:00",
          "2025-06-25T00:00:00",
          "2025-06-26T00:00:00",
          "2025-06-27T00:00:00",
          "2025-06-28T00:00:00",
          "2025-06-29T00:00:00",
          "2025-06-30T00:00:00",
          "2025-07-01T00:00:00",
          "2025-07-02T00:00:00",
          "2025-07-03T00:00:00",
          "2025-07-04T00:00:00",
          "2025-07-05T00:00:00",
          "2025-07-06T00:00:00",
          "2025-07-07T00:00:00",
          "2025-07-08T00:00:00",
          "2025-07-09T00:00:00",
          "2025-07-10T00:00:00",
          "2025-07-11T00:00:00",
          "2025-07-12T00:00:00",
          "2025-07-13T00:00:00",
          "2025-07-14T00:00:00",
          "2025-07-15T00:00:00",
          "2025-07-16T00:00:00",
          "2025-07-17T00:00:00",
          "2025-07-18T00:00:00",
          "2025-07-19T00:00:00",
          "2025-07-20T00:00:00",
          "2025-07-21T00:00:00",
          "2025-07-22T00:00:00",
          "2025-07-23T00:00:00",
          "2025-07-24T00:00:00",
          "2025-07-25T00:00:00",
          "2025-07-26T00:00:00",
          "2025-07-27T00:00:00",
          "2025-07-28T00:00:00",
          "2025-07-29T00:00:00",
          "2025-07-30T00:00:00",
          "2025-07-31T00:00:00",
          "2025-08-01T00:00:00",
          "2025-08-02T00:00:00",
          "2025-08-03T00:00:00",
          "2025-08-04T00:00:00",
          "2025-08-05T00:00:00",
          "2025-08-06T00:00:00",
          "2025-08-07T00:00:00",
          "2025-08-08T00:00:00",
          "2025-08-09T00:00:00",
          "2025-08-10T00:00:00",
          "2025-08-11T00:00:00",
          "2025-08-12T00:00:00",
          "2025-08-13T00:00:00",
          "2025-08-14T00:00:00",
          "2025-08-15T00:00:00"
         ],
         "xaxis": "x2",
         "y": [
          5785170,
          5785170,
          5785170,
          5785170,
          5785170,
          5785170,
          5785170,
          1983380,
          1983380,
          1983380,
          2227360,
          2227360,
          1983380,
          4233380,
          4233380,
          4420540,
          4420540,
          4171900,
          6218100,
          6218100,
          6218100,
          6063300,
          6063300,
          6063300,
          6063300,
          6063300,
          6063300,
          6063300,
          6063300,
          6063300,
          6063300,
          6063300,
          6063300,
          6063300,
          6063300,
          6063300,
          7615790,
          7615790,
          51611400,
          86251000,
          51611400,
          58459900,
          58459900,
          51611400,
          51611400,
          51611400,
          51611400,
          51611400,
          51611400,
          51611400,
          55237400,
          51611400,
          51611400,
          56384800,
          56384800,
          112311000,
          112311000,
          127314000,
          112311000,
          112311000,
          112311000,
          112311000,
          112311000,
          112311000,
          112311000,
          112311000,
          112311000,
          112311000,
          112311000,
          112311000,
          112311000,
          112311000,
          173496992,
          173496992,
          173496992,
          173496992
         ],
         "yaxis": "y2"
        },
        {
         "name": "Stock Price",
         "type": "scatter",
         "x": [
          "2025-06-01T00:00:00",
          "2025-06-02T00:00:00",
          "2025-06-03T00:00:00",
          "2025-06-04T00:00:00",
          "2025-06-05T00:00:00",
          "2025-06-06T00:00:00",
          "2025-06-07T00:00:00",
          "2025-06-08T00:00:00",
          "2025-06-09T00:00:00",
          "2025-06-10T00:00:00",
          "2025-06-11T00:00:00",
          "2025-06-12T00:00:00",
          "2025-06-13T00:00:00",
          "2025-06-14T00:00:00",
          "2025-06-15T00:00:00",
          "2025-06-16T00:00:00",
          "2025-06-17T00:00:00",
          "2025-06-18T00:00:00",
          "2025-06-19T00:00:00",
          "2025-06-20T00:00:00",
          "2025-06-21T00:00:00",
          "2025-06-22T00:00:00",
          "2025-06-23T00:00:00",
          "2025-06-24T00:00:00",
          "2025-06-25T00:00:00",
          "2025-06-26T00:00:00",
          "2025-06-27T00:00:00",
          "2025-06-28T00:00:00",
          "2025-06-29T00:00:00",
          "2025-06-30T00:00:00",
          "2025-07-01T00:00:00",
          "2025-07-02T00:00:00",
          "2025-07-03T00:00:00",
          "2025-07-04T00:00:00",
          "2025-07-05T00:00:00",
          "2025-07-06T00:00:00",
          "2025-07-07T00:00:00",
          "2025-07-08T00:00:00",
          "2025-07-09T00:00:00",
          "2025-07-10T00:00:00",
          "2025-07-11T00:00:00",
          "2025-07-12T00:00:00",
          "2025-07-13T00:00:00",
          "2025-07-14T00:00:00",
          "2025-07-15T00:00:00",
          "2025-07-16T00:00:00",
          "2025-07-17T00:00:00",
          "2025-07-18T00:00:00",
          "2025-07-19T00:00:00",
          "2025-07-20T00:00:00",
          "2025-07-21T00:00:00",
          "2025-07-22T00:00:00",
          "2025-07-23T00:00:00",
          "2025-07-24T00:00:00",
          "2025-07-25T00:00:00",
          "2025-07-26T00:00:00",
          "2025-07-27T00:00:00",
          "2025-07-28T00:00:00",
          "2025-07-29T00:00:00",
          "2025-07-30T00:00:00",
          "2025-07-31T00:00:00",
          "2025-08-01T00:00:00",
          "2025-08-02T00:00:00",
          "2025-08-03T00:00:00",
          "2025-08-04T00:00:00",
          "2025-08-05T00:00:00",
          "2025-08-06T00:00:00",
          "2025-08-07T00:00:00",
          "2025-08-08T00:00:00",
          "2025-08-09T00:00:00",
          "2025-08-10T00:00:00",
          "2025-08-11T00:00:00",
          "2025-08-12T00:00:00",
          "2025-08-13T00:00:00",
          "2025-08-14T00:00:00",
          "2025-08-15T00:00:00"
         ],
         "xaxis": "x3",
         "y": [
          7.75,
          7.75,
          7.75,
          7.75,
          7.75,
          7.55,
          7.55,
          6.89,
          6.89,
          6.75,
          6.3,
          5.61,
          4.96,
          4.96,
          4.75,
          4.75,
          4.82,
          4.7,
          4.7,
          4.61,
          4.61,
          4.4,
          4.4,
          4.42,
          4.37,
          4.42,
          4.26,
          4.26,
          33.9,
          33.9,
          46,
          58.5,
          135,
          135,
          135,
          107.48,
          107.48,
          111.5,
          66.72,
          46.01,
          40.62,
          40.62,
          41.02,
          41.02,
          39.96,
          44.8,
          41.9,
          42.35,
          42.35,
          39.57,
          39.57,
          40.33,
          39.5,
          41.75,
          39.8,
          39.8,
          35.11,
          35.11,
          32,
          34.4,
          34.64,
          31.68,
          31.68,
          31.13,
          31.13,
          33.3,
          38.47,
          41.28,
          51.43,
          51.43,
          58.98,
          58.98,
          62.44,
          61.63,
          60.45,
          60.45
         ],
         "yaxis": "y3"
        },
        {
         "name": "NAV (Millions)",
         "type": "scatter",
         "x": [
          "2025-06-01T00:00:00",
          "2025-06-02T00:00:00",
          "2025-06-03T00:00:00",
          "2025-06-04T00:00:00",
          "2025-06-05T00:00:00",
          "2025-06-06T00:00:00",
          "2025-06-07T00:00:00",
          "2025-06-08T00:00:00",
          "2025-06-09T00:00:00",
          "2025-06-10T00:00:00",
          "2025-06-11T00:00:00",
          "2025-06-12T00:00:00",
          "2025-06-13T00:00:00",
          "2025-06-14T00:00:00",
          "2025-06-15T00:00:00",
          "2025-06-16T00:00:00",
          "2025-06-17T00:00:00",
          "2025-06-18T00:00:00",
          "2025-06-19T00:00:00",
          "2025-06-20T00:00:00",
          "2025-06-21T00:00:00",
          "2025-06-22T00:00:00",
          "2025-06-23T00:00:00",
          "2025-06-24T00:00:00",
          "2025-06-25T00:00:00",
          "2025-06-26T00:00:00",
          "2025-06-27T00:00:00",
          "2025-06-28T00:00:00",
          "2025-06-29T00:00:00",
          "2025-06-30T00:00:00",
          "2025-07-01T00:00:00",
          "2025-07-02T00:00:00",
          "2025-07-03T00:00:00",
          "2025-07-04T00:00:00",
          "2025-07-05T00:00:00",
          "2025-07-06T00:00:00",
          "2025-07-07T00:00:00",
          "2025-07-08T00:00:00",
          "2025-07-09T00:00:00",
          "2025-07-10T00:00:00",
          "2025-07-11T00:00:00",
          "2025-07-12T00:00:00",
          "2025-07-13T00:00:00",
          "2025-07-14T00:00:00",
          "2025-07-15T00:00:00",
          "2025-07-16T00:00:00",
          "2025-07-17T00:00:00",
          "2025-07-18T00:00:00",
          "2025-07-19T00:00:00",
          "2025-07-20T00:00:00",
          "2025-07-21T00:00:00",
          "2025-07-22T00:00:00",
          "2025-07-23T00:00:00",
          "2025-07-24T00:00:00",
          "2025-07-25T00:00:00",
          "2025-07-26T00:00:00",
          "2025-07-27T00:00:00",
          "2025-07-28T00:00:00",
          "2025-07-29T00:00:00",
          "2025-07-30T00:00:00",
          "2025-07-31T00:00:00",
          "2025-08-01T00:00:00",
          "2025-08-02T00:00:00",
          "2025-08-03T00:00:00",
          "2025-08-04T00:00:00",
          "2025-08-05T00:00:00",
          "2025-08-06T00:00:00",
          "2025-08-07T00:00:00",
          "2025-08-08T00:00:00",
          "2025-08-09T00:00:00",
          "2025-08-10T00:00:00",
          "2025-08-11T00:00:00",
          "2025-08-12T00:00:00",
          "2025-08-13T00:00:00",
          "2025-08-14T00:00:00",
          "2025-08-15T00:00:00"
         ],
         "xaxis": "x4",
         "y": [
          null,
          null,
          null,
          null,
          null,
          null,
          null,
          null,
          null,
          null,
          null,
          null,
          null,
          null,
          null,
          null,
          null,
          null,
          null,
          null,
          null,
          null,
          null,
          null,
          null,
          null,
          null,
          null,
          null,
          0,
          0,
          0,
          0,
          0,
          0,
          0,
          0,
          1482.4083,
          1570.4116,
          1674.7381,
          1676.4611,
          1667.9708,
          1685.2291,
          1707.8945,
          1779.6143,
          1910.891,
          1970.5555,
          2011.4994,
          2037.7127,
          2130.7774,
          2132.9878,
          2124.9282,
          2057.2268,
          2101.6111,
          2112.5272,
          2120.5357,
          2196.3987,
          2146.6244,
          2150.0364,
          2158.3964,
          2095.2065,
          1977.1244,
          1922.9236,
          1982.231,
          2107.8343,
          3009.2075,
          3069.2101,
          3261.1732,
          3340.7544,
          3552.1629,
          3544.3481,
          4861.0155,
          5279.558,
          5469.722,
          5230.3955,
          5330.5835
         ],
         "yaxis": "y4"
        },
        {
         "name": "Market Cap (Millions)",
         "type": "scatter",
         "x": [
          "2025-06-01T00:00:00",
          "2025-06-02T00:00:00",
          "2025-06-03T00:00:00",
          "2025-06-04T00:00:00",
          "2025-06-05T00:00:00",
          "2025-06-06T00:00:00",
          "2025-06-07T00:00:00",
          "2025-06-08T00:00:00",
          "2025-06-09T00:00:00",
          "2025-06-10T00:00:00",
          "2025-06-11T00:00:00",
          "2025-06-12T00:00:00",
          "2025-06-13T00:00:00",
          "2025-06-14T00:00:00",
          "2025-06-15T00:00:00",
          "2025-06-16T00:00:00",
          "2025-06-17T00:00:00",
          "2025-06-18T00:00:00",
          "2025-06-19T00:00:00",
          "2025-06-20T00:00:00",
          "2025-06-21T00:00:00",
          "2025-06-22T00:00:00",
          "2025-06-23T00:00:00",
          "2025-06-24T00:00:00",
          "2025-06-25T00:00:00",
          "2025-06-26T00:00:00",
          "2025-06-27T00:00:00",
          "2025-06-28T00:00:00",
          "2025-06-29T00:00:00",
          "2025-06-30T00:00:00",
          "2025-07-01T00:00:00",
          "2025-07-02T00:00:00",
          "2025-07-03T00:00:00",
          "2025-07-04T00:00:00",
          "2025-07-05T00:00:00",
          "2025-07-06T00:00:00",
          "2025-07-07T00:00:00",
          "2025-07-08T00:00:00",
          "2025-07-09T00:00:00",
          "2025-07-10T00:00:00",
          "2025-07-11T00:00:00",
          "2025-07-12T00:00:00",
          "2025-07-13T00:00:00",
          "2025-07-14T00:00:00",
          "2025-07-15T00:00:00",
          "2025-07-16T00:00:00",
          "2025-07-17T00:00:00",
          "2025-07-18T00:00:00",
          "2025-07-19T00:00:00",
          "2025-07-20T00:00:00",
          "2025-07-21T00:00:00",
          "2025-07-22T00:00:00",
          "2025-07-23T00:00:00",
          "2025-07-24T00:00:00",
          "2025-07-25T00:00:00",
          "2025-07-26T00:00:00",
          "2025-07-27T00:00:00",
          "2025-07-28T00:00:00",
          "2025-07-29T00:00:00",
          "2025-07-30T00:00:00",
          "2025-07-31T00:00:00",
          "2025-08-01T00:00:00",
          "2025-08-02T00:00:00",
          "2025-08-03T00:00:00",
          "2025-08-04T00:00:00",
          "2025-08-05T00:00:00",
          "2025-08-06T00:00:00",
          "2025-08-07T00:00:00",
          "2025-08-08T00:00:00",
          "2025-08-09T00:00:00",
          "2025-08-10T00:00:00",
          "2025-08-11T00:00:00",
          "2025-08-12T00:00:00",
          "2025-08-13T00:00:00",
          "2025-08-14T00:00:00",
          "2025-08-15T00:00:00"
         ],
         "xaxis": "x5",
         "y": [
          44.8351,
          44.8351,
          44.8351,
          44.8351,
          44.8351,
          43.678,
          43.678,
          13.6655,
          13.6655,
          13.3878,
          14.0324,
          12.4955,
          9.8376,
          20.9976,
          20.1086,
          20.9976,
          21.307,
          19.6079,
          29.2251,
          28.6654,
          28.6654,
          26.6785,
          26.6785,
          26.7998,
          26.4966,
          26.7998,
          25.8297,
          25.8297,
          205.5459,
          205.5459,
          278.9118,
          354.703,
          818.5455,
          818.5455,
          818.5455,
          651.6835,
          818.5451,
          849.1606,
          3443.5126,
          3968.4085,
          2096.4551,
          2374.6411,
          2398.0251,
          2117.0996,
          2062.3915,
          2312.1907,
          2162.5177,
          2185.7428,
          2185.7428,
          2042.2631,
          2185.7439,
          2081.4878,
          2038.6503,
          2354.0654,
          2244.115,
          4469.9778,
          3943.2392,
          4469.9945,
          3593.952,
          3863.4984,
          3890.453,
          3558.0125,
          3558.0125,
          3496.2414,
          3496.2414,
          3739.9563,
          4320.6042,
          4636.1981,
          5776.1547,
          5776.1547,
          6624.1028,
          6624.1028,
          10833.1522,
          10692.6196,
          10487.8932,
          10487.8932
         ],
         "yaxis": "y5"
        },
        {
         "name": "ETH per Share",
         "type": "scatter",
         "x": [
          "2025-06-01T00:00:00",
          "2025-06-02T00:00:00",
          "2025-06-03T00:00:00",
          "2025-06-04T00:00:00",
          "2025-06-05T00:00:00",
          "2025-06-06T00:00:00",
          "2025-06-07T00:00:00",
          "2025-06-08T00:00:00",
          "2025-06-09T00:00:00",
          "2025-06-10T00:00:00",
          "2025-06-11T00:00:00",
          "2025-06-12T00:00:00",
          "2025-06-13T00:00:00",
          "2025-06-14T00:00:00",
          "2025-06-15T00:00:00",
          "2025-06-16T00:00:00",
          "2025-06-17T00:00:00",
          "2025-06-18T00:00:00",
          "2025-06-19T00:00:00",
          "2025-06-20T00:00:00",
          "2025-06-21T00:00:00",
          "2025-06-22T00:00:00",
          "2025-06-23T00:00:00",
          "2025-06-24T00:00:00",
          "2025-06-25T00:00:00",
          "2025-06-26T00:00:00",
          "2025-06-27T00:00:00",
          "2025-06-28T00:00:00",
          "2025-06-29T00:00:00",
          "2025-06-30T00:00:00",
          "2025-07-01T00:00:00",
          "2025-07-02T00:00:00",
          "2025-07-03T00:00:00",
          "2025-07-04T00:00:00",
          "2025-07-05T00:00:00",
          "2025-07-06T00:00:00",
          "2025-07-07T00:00:00",
          "2025-07-08T00:00:00",
          "2025-07-09T00:00:00",
          "2025-07-10T00:00:00",
          "2025-07-11T00:00:00",
          "2025-07-12T00:00:00",
          "2025-07-13T00:00:00",
          "2025-07-14T00:00:00",
          "2025-07-15T00:00:00",
          "2025-07-16T00:00:00",
          "2025-07-17T00:00:00",
          "2025-07-18T00:00:00",
          "2025-07-19T00:00:00",
          "2025-07-20T00:00:00",
          "2025-07-21T00:00:00",
          "2025-07-22T00:00:00",
          "2025-07-23T00:00:00",
          "2025-07-24T00:00:00",
          "2025-07-25T00:00:00",
          "2025-07-26T00:00:00",
          "2025-07-27T00:00:00",
          "2025-07-28T00:00:00",
          "2025-07-29T00:00:00",
          "2025-07-30T00:00:00",
          "2025-07-31T00:00:00",
          "2025-08-01T00:00:00",
          "2025-08-02T00:00:00",
          "2025-08-03T00:00:00",
          "2025-08-04T00:00:00",
          "2025-08-05T00:00:00",
          "2025-08-06T00:00:00",
          "2025-08-07T00:00:00",
          "2025-08-08T00:00:00",
          "2025-08-09T00:00:00",
          "2025-08-10T00:00:00",
          "2025-08-11T00:00:00",
          "2025-08-12T00:00:00",
          "2025-08-13T00:00:00",
          "2025-08-14T00:00:00",
          "2025-08-15T00:00:00"
         ],
         "xaxis": "x6",
         "y": [
          null,
          null,
          null,
          null,
          null,
          null,
          null,
          null,
          null,
          null,
          null,
          null,
          null,
          null,
          null,
          null,
          null,
          null,
          null,
          null,
          null,
          null,
          null,
          null,
          null,
          null,
          null,
          null,
          null,
          0,
          0,
          0,
          0,
          0,
          0,
          0,
          0,
          0.074421,
          0.010982,
          0.006571,
          0.010982,
          0.009695,
          0.009695,
          0.010982,
          0.010982,
          0.010982,
          0.010982,
          0.010982,
          0.010982,
          0.010982,
          0.010261,
          0.010982,
          0.010982,
          0.010052,
          0.010052,
          0.005046,
          0.005046,
          0.004452,
          0.005046,
          0.005046,
          0.005046,
          0.005046,
          0.005046,
          0.005046,
          0.005046,
          0.007418,
          0.007418,
          0.007418,
          0.007418,
          0.007418,
          0.007418,
          0.010239,
          0.006628,
          0.006628,
          0.006628,
          0.006628
         ],
         "yaxis": "y6"
        },
        {
         "name": "NAV per Share",
         "type": "scatter",
         "x": [
          "2025-06-01T00:00:00",
          "2025-06-02T00:00:00",
          "2025-06-03T00:00:00",
          "2025-06-04T00:00:00",
          "2025-06-05T00:00:00",
          "2025-06-06T00:00:00",
          "2025-06-07T00:00:00",
          "2025-06-08T00:00:00",
          "2025-06-09T00:00:00",
          "2025-06-10T00:00:00",
          "2025-06-11T00:00:00",
          "2025-06-12T00:00:00",
          "2025-06-13T00:00:00",
          "2025-06-14T00:00:00",
          "2025-06-15T00:00:00",
          "2025-06-16T00:00:00",
          "2025-06-17T00:00:00",
          "2025-06-18T00:00:00",
          "2025-06-19T00:00:00",
          "2025-06-20T00:00:00",
          "2025-06-21T00:00:00",
          "2025-06-22T00:00:00",
          "2025-06-23T00:00:00",
          "2025-06-24T00:00:00",
          "2025-06-25T00:00:00",
          "2025-06-26T00:00:00",
          "2025-06-27T00:00:00",
          "2025-06-28T00:00:00",
          "2025-06-29T00:00:00",
          "2025-06-30T00:00:00",
          "2025-07-01T00:00:00",
          "2025-07-02T00:00:00",
          "2025-07-03T00:00:00",
          "2025-07-04T00:00:00",
          "2025-07-05T00:00:00",
          "2025-07-06T00:00:00",
          "2025-07-07T00:00:00",
          "2025-07-08T00:00:00",
          "2025-07-09T00:00:00",
          "2025-07-10T00:00:00",
          "2025-07-11T00:00:00",
          "2025-07-12T00:00:00",
          "2025-07-13T00:00:00",
          "2025-07-14T00:00:00",
          "2025-07-15T00:00:00",
          "2025-07-16T00:00:00",
          "2025-07-17T00:00:00",
          "2025-07-18T00:00:00",
          "2025-07-19T00:00:00",
          "2025-07-20T00:00:00",
          "2025-07-21T00:00:00",
          "2025-07-22T00:00:00",
          "2025-07-23T00:00:00",
          "2025-07-24T00:00:00",
          "2025-07-25T00:00:00",
          "2025-07-26T00:00:00",
          "2025-07-27T00:00:00",
          "2025-07-28T00:00:00",
          "2025-07-29T00:00:00",
          "2025-07-30T00:00:00",
          "2025-07-31T00:00:00",
          "2025-08-01T00:00:00",
          "2025-08-02T00:00:00",
          "2025-08-03T00:00:00",
          "2025-08-04T00:00:00",
          "2025-08-05T00:00:00",
          "2025-08-06T00:00:00",
          "2025-08-07T00:00:00",
          "2025-08-08T00:00:00",
          "2025-08-09T00:00:00",
          "2025-08-10T00:00:00",
          "2025-08-11T00:00:00",
          "2025-08-12T00:00:00",
          "2025-08-13T00:00:00",
          "2025-08-14T00:00:00",
          "2025-08-15T00:00:00"
         ],
         "xaxis": "x7",
         "y": [
          null,
          null,
          null,
          null,
          null,
          null,
          null,
          null,
          null,
          null,
          null,
          null,
          null,
          null,
          null,
          null,
          null,
          null,
          null,
          null,
          null,
          null,
          null,
          null,
          null,
          null,
          null,
          null,
          null,
          0,
          0,
          0,
          0,
          0,
          0,
          0,
          0,
          194.6493,
          30.4276,
          19.417,
          32.4824,
          28.5319,
          28.8271,
          33.0914,
          34.481,
          37.0246,
          38.1806,
          38.9739,
          39.4818,
          41.285,
          38.6149,
          41.1717,
          39.8599,
          37.2727,
          37.4663,
          18.8809,
          19.5564,
          16.8609,
          19.1436,
          19.218,
          18.6554,
          17.604,
          17.1214,
          17.6495,
          18.7678,
          26.7935,
          27.3278,
          29.037,
          29.7456,
          31.6279,
          31.5583,
          43.2817,
          30.4303,
          31.5263,
          30.1469,
          30.7244
         ],
         "yaxis": "y7"
        },
        {
         "name": "MNAV",
         "type": "scatter",
         "x": [
          "2025-06-01T00:00:00",
          "2025-06-02T00:00:00",
          "2025-06-03T00:00:00",
          "2025-06-04T00:00:00",
          "2025-06-05T00:00:00",
          "2025-06-06T00:00:00",
          "2025-06-07T00:00:00",
          "2025-06-08T00:00:00",
          "2025-06-09T00:00:00",
          "2025-06-10T00:00:00",
          "2025-06-11T00:00:00",
          "2025-06-12T00:00:00",
          "2025-06-13T00:00:00",
          "2025-06-14T00:00:00",
          "2025-06-15T00:00:00",
          "2025-06-16T00:00:00",
          "2025-06-17T00:00:00",
          "2025-06-18T00:00:00",
          "2025-06-19T00:00:00",
          "2025-06-20T00:00:00",
          "2025-06-21T00:00:00",
          "2025-06-22T00:00:00",
          "2025-06-23T00:00:00",
          "2025-06-24T00:00:00",
          "2025-06-25T00:00:00",
          "2025-06-26T00:00:00",
          "2025-06-27T00:00:00",
          "2025-06-28T00:00:00",
          "2025-06-29T00:00:00",
          "2025-06-30T00:00:00",
          "2025-07-01T00:00:00",
          "2025-07-02T00:00:00",
          "2025-07-03T00:00:00",
          "2025-07-04T00:00:00",
          "2025-07-05T00:00:00",
          "2025-07-06T00:00:00",
          "2025-07-07T00:00:00",
          "2025-07-08T00:00:00",
          "2025-07-09T00:00:00",
          "2025-07-10T00:00:00",
          "2025-07-11T00:00:00",
          "2025-07-12T00:00:00",
          "2025-07-13T00:00:00",
          "2025-07-14T00:00:00",
          "2025-07-15T00:00:00",
          "2025-07-16T00:00:00",
          "2025-07-17T00:00:00",
          "2025-07-18T00:00:00",
          "2025-07-19T00:00:00",
          "2025-07-20T00:00:00",
          "2025-07-21T00:00:00",
          "2025-07-22T00:00:00",
          "2025-07-23T00:00:00",
          "2025-07-24T00:00:00",
          "2025-07-25T00:00:00",
          "2025-07-26T00:00:00",
          "2025-07-27T00:00:00",
          "2025-07-28T00:00:00",
          "2025-07-29T00:00:00",
          "2025-07-30T00:00:00",
          "2025-07-31T00:00:00",
          "2025-08-01T00:00:00",
          "2025-08-02T00:00:00",
          "2025-08-03T00:00:00",
          "2025-08-04T00:00:00",
          "2025-08-05T00:00:00",
          "2025-08-06T00:00:00",
          "2025-08-07T00:00:00",
          "2025-08-08T00:00:00",
          "2025-08-09T00:00:00",
          "2025-08-10T00:00:00",
          "2025-08-11T00:00:00",
          "2025-08-12T00:00:00",
          "2025-08-13T00:00:00",
          "2025-08-14T00:00:00",
          "2025-08-15T00:00:00"
         ],
         "xaxis": "x8",
         "y": [
          null,
          null,
          null,
          null,
          null,
          null,
          null,
          null,
          null,
          null,
          null,
          null,
          null,
          null,
          null,
          null,
          null,
          null,
          null,
          null,
          null,
          null,
          null,
          null,
          null,
          null,
          null,
          null,
          null,
          null,
          null,
          null,
          null,
          null,
          null,
          null,
          null,
          0.5728250756617157,
          2.192746059498613,
          2.369573054539836,
          1.2505233603428318,
          1.4236696469565644,
          1.422966583527306,
          1.2395969949896348,
          1.1588991038542966,
          1.210006320122297,
          1.0974159651760318,
          1.0866246385401512,
          1.0726461306222108,
          0.9584594889184935,
          1.024733975745114,
          0.9795563457423424,
          0.9909708754914086,
          1.1201227708215395,
          1.0622879761278803,
          2.107950362535684,
          1.7953202020821828,
          2.0823324970790407,
          1.671576923880566,
          1.7899885523987926,
          1.8568350182788897,
          1.79959100204499,
          1.8503159788335064,
          1.763789342474291,
          1.6586920150470486,
          1.2428387482038552,
          1.407724002663954,
          1.421634466370493,
          1.728995212737346,
          1.6260959469329295,
          1.8689219634771201,
          1.3627006332930545,
          2.0519022158835107,
          1.9548757703885329,
          2.005181295589265,
          1.9674916353126506
         ],
         "yaxis": "y8"
        }
       ],
       "layout": {
        "annotations": [
         {
          "font": {
           "size": 16
          },
          "showarrow": false,
          "text": "ETH Holdings",
          "x": 0.225,
          "xanchor": "center",
          "xref": "paper",
          "y": 1,
          "yanchor": "bottom",
          "yref": "paper"
         },
         {
          "font": {
           "size": 16
          },
          "showarrow": false,
          "text": "Shares Outstanding",
          "x": 0.775,
          "xanchor": "center",
          "xref": "paper",
          "y": 1,
          "yanchor": "bottom",
          "yref": "paper"
         },
         {
          "font": {
           "size": 16
          },
          "showarrow": false,
          "text": "Stock Price",
          "x": 0.225,
          "xanchor": "center",
          "xref": "paper",
          "y": 0.71875,
          "yanchor": "bottom",
          "yref": "paper"
         },
         {
          "font": {
           "size": 16
          },
          "showarrow": false,
          "text": "NAV",
          "x": 0.775,
          "xanchor": "center",
          "xref": "paper",
          "y": 0.71875,
          "yanchor": "bottom",
          "yref": "paper"
         },
         {
          "font": {
           "size": 16
          },
          "showarrow": false,
          "text": "Market Cap (Millions)",
          "x": 0.225,
          "xanchor": "center",
          "xref": "paper",
          "y": 0.4375,
          "yanchor": "bottom",
          "yref": "paper"
         },
         {
          "font": {
           "size": 16
          },
          "showarrow": false,
          "text": "ETH per Share",
          "x": 0.775,
          "xanchor": "center",
          "xref": "paper",
          "y": 0.4375,
          "yanchor": "bottom",
          "yref": "paper"
         },
         {
          "font": {
           "size": 16
          },
          "showarrow": false,
          "text": "NAV per Share",
          "x": 0.225,
          "xanchor": "center",
          "xref": "paper",
          "y": 0.15625,
          "yanchor": "bottom",
          "yref": "paper"
         },
         {
          "font": {
           "size": 16
          },
          "showarrow": false,
          "text": "MNAV (Market Price/NAV)",
          "x": 0.775,
          "xanchor": "center",
          "xref": "paper",
          "y": 0.15625,
          "yanchor": "bottom",
          "yref": "paper"
         }
        ],
        "height": 1200,
        "showlegend": true,
        "template": {
         "data": {
          "bar": [
           {
            "error_x": {
             "color": "#2a3f5f"
            },
            "error_y": {
             "color": "#2a3f5f"
            },
            "marker": {
             "line": {
              "color": "#E5ECF6",
              "width": 0.5
             },
             "pattern": {
              "fillmode": "overlay",
              "size": 10,
              "solidity": 0.2
             }
            },
            "type": "bar"
           }
          ],
          "barpolar": [
           {
            "marker": {
             "line": {
              "color": "#E5ECF6",
              "width": 0.5
             },
             "pattern": {
              "fillmode": "overlay",
              "size": 10,
              "solidity": 0.2
             }
            },
            "type": "barpolar"
           }
          ],
          "carpet": [
           {
            "aaxis": {
             "endlinecolor": "#2a3f5f",
             "gridcolor": "white",
             "linecolor": "white",
             "minorgridcolor": "white",
             "startlinecolor": "#2a3f5f"
            },
            "baxis": {
             "endlinecolor": "#2a3f5f",
             "gridcolor": "white",
             "linecolor": "white",
             "minorgridcolor": "white",
             "startlinecolor": "#2a3f5f"
            },
            "type": "carpet"
           }
          ],
          "choropleth": [
           {
            "colorbar": {
             "outlinewidth": 0,
             "ticks": ""
            },
            "type": "choropleth"
           }
          ],
          "contour": [
           {
            "colorbar": {
             "outlinewidth": 0,
             "ticks": ""
            },
            "colorscale": [
             [
              0,
              "#0d0887"
             ],
             [
              0.1111111111111111,
              "#46039f"
             ],
             [
              0.2222222222222222,
              "#7201a8"
             ],
             [
              0.3333333333333333,
              "#9c179e"
             ],
             [
              0.4444444444444444,
              "#bd3786"
             ],
             [
              0.5555555555555556,
              "#d8576b"
             ],
             [
              0.6666666666666666,
              "#ed7953"
             ],
             [
              0.7777777777777778,
              "#fb9f3a"
             ],
             [
              0.8888888888888888,
              "#fdca26"
             ],
             [
              1,
              "#f0f921"
             ]
            ],
            "type": "contour"
           }
          ],
          "contourcarpet": [
           {
            "colorbar": {
             "outlinewidth": 0,
             "ticks": ""
            },
            "type": "contourcarpet"
           }
          ],
          "heatmap": [
           {
            "colorbar": {
             "outlinewidth": 0,
             "ticks": ""
            },
            "colorscale": [
             [
              0,
              "#0d0887"
             ],
             [
              0.1111111111111111,
              "#46039f"
             ],
             [
              0.2222222222222222,
              "#7201a8"
             ],
             [
              0.3333333333333333,
              "#9c179e"
             ],
             [
              0.4444444444444444,
              "#bd3786"
             ],
             [
              0.5555555555555556,
              "#d8576b"
             ],
             [
              0.6666666666666666,
              "#ed7953"
             ],
             [
              0.7777777777777778,
              "#fb9f3a"
             ],
             [
              0.8888888888888888,
              "#fdca26"
             ],
             [
              1,
              "#f0f921"
             ]
            ],
            "type": "heatmap"
           }
          ],
          "heatmapgl": [
           {
            "colorbar": {
             "outlinewidth": 0,
             "ticks": ""
            },
            "colorscale": [
             [
              0,
              "#0d0887"
             ],
             [
              0.1111111111111111,
              "#46039f"
             ],
             [
              0.2222222222222222,
              "#7201a8"
             ],
             [
              0.3333333333333333,
              "#9c179e"
             ],
             [
              0.4444444444444444,
              "#bd3786"
             ],
             [
              0.5555555555555556,
              "#d8576b"
             ],
             [
              0.6666666666666666,
              "#ed7953"
             ],
             [
              0.7777777777777778,
              "#fb9f3a"
             ],
             [
              0.8888888888888888,
              "#fdca26"
             ],
             [
              1,
              "#f0f921"
             ]
            ],
            "type": "heatmapgl"
           }
          ],
          "histogram": [
           {
            "marker": {
             "pattern": {
              "fillmode": "overlay",
              "size": 10,
              "solidity": 0.2
             }
            },
            "type": "histogram"
           }
          ],
          "histogram2d": [
           {
            "colorbar": {
             "outlinewidth": 0,
             "ticks": ""
            },
            "colorscale": [
             [
              0,
              "#0d0887"
             ],
             [
              0.1111111111111111,
              "#46039f"
             ],
             [
              0.2222222222222222,
              "#7201a8"
             ],
             [
              0.3333333333333333,
              "#9c179e"
             ],
             [
              0.4444444444444444,
              "#bd3786"
             ],
             [
              0.5555555555555556,
              "#d8576b"
             ],
             [
              0.6666666666666666,
              "#ed7953"
             ],
             [
              0.7777777777777778,
              "#fb9f3a"
             ],
             [
              0.8888888888888888,
              "#fdca26"
             ],
             [
              1,
              "#f0f921"
             ]
            ],
            "type": "histogram2d"
           }
          ],
          "histogram2dcontour": [
           {
            "colorbar": {
             "outlinewidth": 0,
             "ticks": ""
            },
            "colorscale": [
             [
              0,
              "#0d0887"
             ],
             [
              0.1111111111111111,
              "#46039f"
             ],
             [
              0.2222222222222222,
              "#7201a8"
             ],
             [
              0.3333333333333333,
              "#9c179e"
             ],
             [
              0.4444444444444444,
              "#bd3786"
             ],
             [
              0.5555555555555556,
              "#d8576b"
             ],
             [
              0.6666666666666666,
              "#ed7953"
             ],
             [
              0.7777777777777778,
              "#fb9f3a"
             ],
             [
              0.8888888888888888,
              "#fdca26"
             ],
             [
              1,
              "#f0f921"
             ]
            ],
            "type": "histogram2dcontour"
           }
          ],
          "mesh3d": [
           {
            "colorbar": {
             "outlinewidth": 0,
             "ticks": ""
            },
            "type": "mesh3d"
           }
          ],
          "parcoords": [
           {
            "line": {
             "colorbar": {
              "outlinewidth": 0,
              "ticks": ""
             }
            },
            "type": "parcoords"
           }
          ],
          "pie": [
           {
            "automargin": true,
            "type": "pie"
           }
          ],
          "scatter": [
           {
            "fillpattern": {
             "fillmode": "overlay",
             "size": 10,
             "solidity": 0.2
            },
            "type": "scatter"
           }
          ],
          "scatter3d": [
           {
            "line": {
             "colorbar": {
              "outlinewidth": 0,
              "ticks": ""
             }
            },
            "marker": {
             "colorbar": {
              "outlinewidth": 0,
              "ticks": ""
             }
            },
            "type": "scatter3d"
           }
          ],
          "scattercarpet": [
           {
            "marker": {
             "colorbar": {
              "outlinewidth": 0,
              "ticks": ""
             }
            },
            "type": "scattercarpet"
           }
          ],
          "scattergeo": [
           {
            "marker": {
             "colorbar": {
              "outlinewidth": 0,
              "ticks": ""
             }
            },
            "type": "scattergeo"
           }
          ],
          "scattergl": [
           {
            "marker": {
             "colorbar": {
              "outlinewidth": 0,
              "ticks": ""
             }
            },
            "type": "scattergl"
           }
          ],
          "scattermapbox": [
           {
            "marker": {
             "colorbar": {
              "outlinewidth": 0,
              "ticks": ""
             }
            },
            "type": "scattermapbox"
           }
          ],
          "scatterpolar": [
           {
            "marker": {
             "colorbar": {
              "outlinewidth": 0,
              "ticks": ""
             }
            },
            "type": "scatterpolar"
           }
          ],
          "scatterpolargl": [
           {
            "marker": {
             "colorbar": {
              "outlinewidth": 0,
              "ticks": ""
             }
            },
            "type": "scatterpolargl"
           }
          ],
          "scatterternary": [
           {
            "marker": {
             "colorbar": {
              "outlinewidth": 0,
              "ticks": ""
             }
            },
            "type": "scatterternary"
           }
          ],
          "surface": [
           {
            "colorbar": {
             "outlinewidth": 0,
             "ticks": ""
            },
            "colorscale": [
             [
              0,
              "#0d0887"
             ],
             [
              0.1111111111111111,
              "#46039f"
             ],
             [
              0.2222222222222222,
              "#7201a8"
             ],
             [
              0.3333333333333333,
              "#9c179e"
             ],
             [
              0.4444444444444444,
              "#bd3786"
             ],
             [
              0.5555555555555556,
              "#d8576b"
             ],
             [
              0.6666666666666666,
              "#ed7953"
             ],
             [
              0.7777777777777778,
              "#fb9f3a"
             ],
             [
              0.8888888888888888,
              "#fdca26"
             ],
             [
              1,
              "#f0f921"
             ]
            ],
            "type": "surface"
           }
          ],
          "table": [
           {
            "cells": {
             "fill": {
              "color": "#EBF0F8"
             },
             "line": {
              "color": "white"
             }
            },
            "header": {
             "fill": {
              "color": "#C8D4E3"
             },
             "line": {
              "color": "white"
             }
            },
            "type": "table"
           }
          ]
         },
         "layout": {
          "annotationdefaults": {
           "arrowcolor": "#2a3f5f",
           "arrowhead": 0,
           "arrowwidth": 1
          },
          "autotypenumbers": "strict",
          "coloraxis": {
           "colorbar": {
            "outlinewidth": 0,
            "ticks": ""
           }
          },
          "colorscale": {
           "diverging": [
            [
             0,
             "#8e0152"
            ],
            [
             0.1,
             "#c51b7d"
            ],
            [
             0.2,
             "#de77ae"
            ],
            [
             0.3,
             "#f1b6da"
            ],
            [
             0.4,
             "#fde0ef"
            ],
            [
             0.5,
             "#f7f7f7"
            ],
            [
             0.6,
             "#e6f5d0"
            ],
            [
             0.7,
             "#b8e186"
            ],
            [
             0.8,
             "#7fbc41"
            ],
            [
             0.9,
             "#4d9221"
            ],
            [
             1,
             "#276419"
            ]
           ],
           "sequential": [
            [
             0,
             "#0d0887"
            ],
            [
             0.1111111111111111,
             "#46039f"
            ],
            [
             0.2222222222222222,
             "#7201a8"
            ],
            [
             0.3333333333333333,
             "#9c179e"
            ],
            [
             0.4444444444444444,
             "#bd3786"
            ],
            [
             0.5555555555555556,
             "#d8576b"
            ],
            [
             0.6666666666666666,
             "#ed7953"
            ],
            [
             0.7777777777777778,
             "#fb9f3a"
            ],
            [
             0.8888888888888888,
             "#fdca26"
            ],
            [
             1,
             "#f0f921"
            ]
           ],
           "sequentialminus": [
            [
             0,
             "#0d0887"
            ],
            [
             0.1111111111111111,
             "#46039f"
            ],
            [
             0.2222222222222222,
             "#7201a8"
            ],
            [
             0.3333333333333333,
             "#9c179e"
            ],
            [
             0.4444444444444444,
             "#bd3786"
            ],
            [
             0.5555555555555556,
             "#d8576b"
            ],
            [
             0.6666666666666666,
             "#ed7953"
            ],
            [
             0.7777777777777778,
             "#fb9f3a"
            ],
            [
             0.8888888888888888,
             "#fdca26"
            ],
            [
             1,
             "#f0f921"
            ]
           ]
          },
          "colorway": [
           "#636efa",
           "#EF553B",
           "#00cc96",
           "#ab63fa",
           "#FFA15A",
           "#19d3f3",
           "#FF6692",
           "#B6E880",
           "#FF97FF",
           "#FECB52"
          ],
          "font": {
           "color": "#2a3f5f"
          },
          "geo": {
           "bgcolor": "white",
           "lakecolor": "white",
           "landcolor": "#E5ECF6",
           "showlakes": true,
           "showland": true,
           "subunitcolor": "white"
          },
          "hoverlabel": {
           "align": "left"
          },
          "hovermode": "closest",
          "mapbox": {
           "style": "light"
          },
          "paper_bgcolor": "white",
          "plot_bgcolor": "#E5ECF6",
          "polar": {
           "angularaxis": {
            "gridcolor": "white",
            "linecolor": "white",
            "ticks": ""
           },
           "bgcolor": "#E5ECF6",
           "radialaxis": {
            "gridcolor": "white",
            "linecolor": "white",
            "ticks": ""
           }
          },
          "scene": {
           "xaxis": {
            "backgroundcolor": "#E5ECF6",
            "gridcolor": "white",
            "gridwidth": 2,
            "linecolor": "white",
            "showbackground": true,
            "ticks": "",
            "zerolinecolor": "white"
           },
           "yaxis": {
            "backgroundcolor": "#E5ECF6",
            "gridcolor": "white",
            "gridwidth": 2,
            "linecolor": "white",
            "showbackground": true,
            "ticks": "",
            "zerolinecolor": "white"
           },
           "zaxis": {
            "backgroundcolor": "#E5ECF6",
            "gridcolor": "white",
            "gridwidth": 2,
            "linecolor": "white",
            "showbackground": true,
            "ticks": "",
            "zerolinecolor": "white"
           }
          },
          "shapedefaults": {
           "line": {
            "color": "#2a3f5f"
           }
          },
          "ternary": {
           "aaxis": {
            "gridcolor": "white",
            "linecolor": "white",
            "ticks": ""
           },
           "baxis": {
            "gridcolor": "white",
            "linecolor": "white",
            "ticks": ""
           },
           "bgcolor": "#E5ECF6",
           "caxis": {
            "gridcolor": "white",
            "linecolor": "white",
            "ticks": ""
           }
          },
          "title": {
           "x": 0.05
          },
          "xaxis": {
           "automargin": true,
           "gridcolor": "white",
           "linecolor": "white",
           "ticks": "",
           "title": {
            "standoff": 15
           },
           "zerolinecolor": "white",
           "zerolinewidth": 2
          },
          "yaxis": {
           "automargin": true,
           "gridcolor": "white",
           "linecolor": "white",
           "ticks": "",
           "title": {
            "standoff": 15
           },
           "zerolinecolor": "white",
           "zerolinewidth": 2
          }
         }
        },
        "title": {
         "text": "BitMine Metrics Over Time"
        },
        "width": 1000,
        "xaxis": {
         "anchor": "y",
         "domain": [
          0,
          0.45
         ],
         "title": {
          "text": "Date"
         }
        },
        "xaxis2": {
         "anchor": "y2",
         "domain": [
          0.55,
          1
         ],
         "title": {
          "text": "Date"
         }
        },
        "xaxis3": {
         "anchor": "y3",
         "domain": [
          0,
          0.45
         ],
         "title": {
          "text": "Date"
         }
        },
        "xaxis4": {
         "anchor": "y4",
         "domain": [
          0.55,
          1
         ],
         "title": {
          "text": "Date"
         }
        },
        "xaxis5": {
         "anchor": "y5",
         "domain": [
          0,
          0.45
         ],
         "title": {
          "text": "Date"
         }
        },
        "xaxis6": {
         "anchor": "y6",
         "domain": [
          0.55,
          1
         ],
         "title": {
          "text": "Date"
         }
        },
        "xaxis7": {
         "anchor": "y7",
         "domain": [
          0,
          0.45
         ],
         "title": {
          "text": "Date"
         }
        },
        "xaxis8": {
         "anchor": "y8",
         "domain": [
          0.55,
          1
         ],
         "title": {
          "text": "Date"
         }
        },
        "yaxis": {
         "anchor": "x",
         "domain": [
          0.84375,
          1
         ],
         "title": {
          "text": "ETH"
         }
        },
        "yaxis2": {
         "anchor": "x2",
         "domain": [
          0.84375,
          1
         ],
         "title": {
          "text": "Shares"
         }
        },
        "yaxis3": {
         "anchor": "x3",
         "domain": [
          0.5625,
          0.71875
         ],
         "title": {
          "text": "USD"
         }
        },
        "yaxis4": {
         "anchor": "x4",
         "domain": [
          0.5625,
          0.71875
         ],
         "title": {
          "text": "USD Millions"
         }
        },
        "yaxis5": {
         "anchor": "x5",
         "domain": [
          0.28125,
          0.4375
         ],
         "title": {
          "text": "USD Millions"
         }
        },
        "yaxis6": {
         "anchor": "x6",
         "domain": [
          0.28125,
          0.4375
         ],
         "title": {
          "text": "ETH"
         }
        },
        "yaxis7": {
         "anchor": "x7",
         "domain": [
          0,
          0.15625
         ],
         "title": {
          "text": "USD"
         }
        },
        "yaxis8": {
         "anchor": "x8",
         "domain": [
          0,
          0.15625
         ],
         "title": {
          "text": "Ratio"
         }
        }
       }
      }
     },
     "metadata": {},
     "output_type": "display_data"
    }
   ],
   "source": [
    "import plotly.graph_objects as go\n",
    "from plotly.subplots import make_subplots\n",
    "\n",
    "# Create subplots with 4 rows and 2 columns\n",
    "fig = make_subplots(rows=4, cols=2, \n",
    "                    subplot_titles=('ETH Holdings', 'Shares Outstanding',\n",
    "                                  'Stock Price', 'NAV',\n",
    "                                  'Market Cap (Millions)', 'ETH per Share',\n",
    "                                  'NAV per Share', 'MNAV (Market Price/NAV)'))\n",
    "\n",
    "# ETH Holdings\n",
    "fig.add_trace(go.Scatter(x=result['date'], y=result['eth'], name='ETH Holdings'),\n",
    "              row=1, col=1)\n",
    "\n",
    "# Shares Outstanding\n",
    "fig.add_trace(go.Scatter(x=result['date'], y=result['shares_outstanding'], name='Shares Outstanding'),\n",
    "              row=1, col=2)\n",
    "\n",
    "# Stock Price\n",
    "fig.add_trace(go.Scatter(x=result['date'], y=result['stock_px'], name='Stock Price'),\n",
    "              row=2, col=1)\n",
    "\n",
    "# NAV\n",
    "fig.add_trace(go.Scatter(x=result['date'], y=result['nav'], name='NAV (Millions)'),\n",
    "              row=2, col=2)\n",
    "\n",
    "# Market Cap\n",
    "fig.add_trace(go.Scatter(x=result['date'], y=result['market_cap_in_mil'], name='Market Cap (Millions)'),\n",
    "              row=3, col=1)\n",
    "\n",
    "# ETH per Share\n",
    "fig.add_trace(go.Scatter(x=result['date'], y=result['eth_per_share'], name='ETH per Share'),\n",
    "              row=3, col=2)\n",
    "\n",
    "# NAV per Share\n",
    "fig.add_trace(go.Scatter(x=result['date'], y=result['nav_per_share'], name='NAV per Share'),\n",
    "              row=4, col=1)\n",
    "\n",
    "# MNAV\n",
    "fig.add_trace(go.Scatter(x=result['date'], y=result['mnav'], name='MNAV'),\n",
    "              row=4, col=2)\n",
    "\n",
    "# Update layout\n",
    "fig.update_layout(height=1200, width=1000, title_text=\"BitMine Metrics Over Time\",\n",
    "                 showlegend=True)\n",
    "fig.update_xaxes(title_text=\"Date\")\n",
    "\n",
    "# Update y-axis labels\n",
    "fig.update_yaxes(title_text=\"ETH\", row=1, col=1)\n",
    "fig.update_yaxes(title_text=\"Shares\", row=1, col=2)\n",
    "fig.update_yaxes(title_text=\"USD\", row=2, col=1)\n",
    "fig.update_yaxes(title_text=\"USD Millions\", row=2, col=2)\n",
    "fig.update_yaxes(title_text=\"USD Millions\", row=3, col=1)\n",
    "fig.update_yaxes(title_text=\"ETH\", row=3, col=2)\n",
    "fig.update_yaxes(title_text=\"USD\", row=4, col=1)\n",
    "fig.update_yaxes(title_text=\"Ratio\", row=4, col=2)\n",
    "\n",
    "fig.show()"
   ]
  },
  {
   "cell_type": "code",
   "execution_count": null,
   "id": "73a8a294",
   "metadata": {},
   "outputs": [],
   "source": []
  },
  {
   "cell_type": "markdown",
   "id": "ba4cf0cd",
   "metadata": {},
   "source": [
    "# Growth and Value Creation Analysis\n",
    "\n",
    "We'll analyze:\n",
    "1. Growth rates for key metrics\n",
    "2. Dilution impact vs. value creation\n",
    "3. Market pricing efficiency (MNAV trends)\n",
    "4. Capital deployment efficiency"
   ]
  },
  {
   "cell_type": "code",
   "execution_count": 27,
   "id": "f6546447",
   "metadata": {},
   "outputs": [
    {
     "data": {
      "application/vnd.plotly.v1+json": {
       "config": {
        "plotlyServerURL": "https://plot.ly"
       },
       "data": [
        {
         "line": {
          "color": "blue"
         },
         "name": "ETH Holdings Growth %",
         "type": "scatter",
         "x": [
          "2025-07-08T00:00:00",
          "2025-07-09T00:00:00",
          "2025-07-10T00:00:00",
          "2025-07-11T00:00:00",
          "2025-07-12T00:00:00",
          "2025-07-13T00:00:00",
          "2025-07-14T00:00:00",
          "2025-07-15T00:00:00",
          "2025-07-16T00:00:00",
          "2025-07-17T00:00:00",
          "2025-07-18T00:00:00",
          "2025-07-19T00:00:00",
          "2025-07-20T00:00:00",
          "2025-07-21T00:00:00",
          "2025-07-22T00:00:00",
          "2025-07-23T00:00:00",
          "2025-07-24T00:00:00",
          "2025-07-25T00:00:00",
          "2025-07-26T00:00:00",
          "2025-07-27T00:00:00",
          "2025-07-28T00:00:00",
          "2025-07-29T00:00:00",
          "2025-07-30T00:00:00",
          "2025-07-31T00:00:00",
          "2025-08-01T00:00:00",
          "2025-08-02T00:00:00",
          "2025-08-03T00:00:00",
          "2025-08-04T00:00:00",
          "2025-08-05T00:00:00",
          "2025-08-06T00:00:00",
          "2025-08-07T00:00:00",
          "2025-08-08T00:00:00",
          "2025-08-09T00:00:00",
          "2025-08-10T00:00:00",
          "2025-08-11T00:00:00",
          "2025-08-12T00:00:00",
          "2025-08-13T00:00:00",
          "2025-08-14T00:00:00",
          "2025-08-15T00:00:00"
         ],
         "xaxis": "x",
         "y": [
          0,
          0,
          0,
          0,
          0,
          0,
          0,
          0,
          0,
          0,
          0,
          0,
          0,
          0,
          0,
          0,
          0,
          0,
          0,
          0,
          0,
          0,
          0,
          0,
          0,
          0,
          0,
          0,
          46.99581492512033,
          46.99581492512033,
          46.99581492512033,
          46.99581492512033,
          46.99581492512033,
          46.99581492512033,
          102.90202831453695,
          102.90202831453695,
          102.90202831453695,
          102.90202831453695,
          102.90202831453695
         ],
         "yaxis": "y"
        },
        {
         "line": {
          "color": "red"
         },
         "name": "Shares Outstanding Growth %",
         "type": "scatter",
         "x": [
          "2025-07-08T00:00:00",
          "2025-07-09T00:00:00",
          "2025-07-10T00:00:00",
          "2025-07-11T00:00:00",
          "2025-07-12T00:00:00",
          "2025-07-13T00:00:00",
          "2025-07-14T00:00:00",
          "2025-07-15T00:00:00",
          "2025-07-16T00:00:00",
          "2025-07-17T00:00:00",
          "2025-07-18T00:00:00",
          "2025-07-19T00:00:00",
          "2025-07-20T00:00:00",
          "2025-07-21T00:00:00",
          "2025-07-22T00:00:00",
          "2025-07-23T00:00:00",
          "2025-07-24T00:00:00",
          "2025-07-25T00:00:00",
          "2025-07-26T00:00:00",
          "2025-07-27T00:00:00",
          "2025-07-28T00:00:00",
          "2025-07-29T00:00:00",
          "2025-07-30T00:00:00",
          "2025-07-31T00:00:00",
          "2025-08-01T00:00:00",
          "2025-08-02T00:00:00",
          "2025-08-03T00:00:00",
          "2025-08-04T00:00:00",
          "2025-08-05T00:00:00",
          "2025-08-06T00:00:00",
          "2025-08-07T00:00:00",
          "2025-08-08T00:00:00",
          "2025-08-09T00:00:00",
          "2025-08-10T00:00:00",
          "2025-08-11T00:00:00",
          "2025-08-12T00:00:00",
          "2025-08-13T00:00:00",
          "2025-08-14T00:00:00",
          "2025-08-15T00:00:00"
         ],
         "xaxis": "x",
         "y": [
          0,
          0,
          67.11617975873547,
          0,
          13.269355219970791,
          13.269355219970791,
          0,
          0,
          0,
          0,
          0,
          0,
          0,
          7.025579620006428,
          0,
          0,
          9.248731869315696,
          9.248731869315696,
          117.60890035922299,
          117.60890035922299,
          146.6780594984829,
          117.60890035922299,
          117.60890035922299,
          117.60890035922299,
          117.60890035922299,
          117.60890035922299,
          117.60890035922299,
          117.60890035922299,
          117.60890035922299,
          117.60890035922299,
          117.60890035922299,
          117.60890035922299,
          117.60890035922299,
          117.60890035922299,
          117.60890035922299,
          236.1602126661939,
          236.1602126661939,
          236.1602126661939,
          236.1602126661939
         ],
         "yaxis": "y"
        },
        {
         "line": {
          "color": "green"
         },
         "name": "NAV Growth %",
         "type": "scatter",
         "x": [
          "2025-07-08T00:00:00",
          "2025-07-09T00:00:00",
          "2025-07-10T00:00:00",
          "2025-07-11T00:00:00",
          "2025-07-12T00:00:00",
          "2025-07-13T00:00:00",
          "2025-07-14T00:00:00",
          "2025-07-15T00:00:00",
          "2025-07-16T00:00:00",
          "2025-07-17T00:00:00",
          "2025-07-18T00:00:00",
          "2025-07-19T00:00:00",
          "2025-07-20T00:00:00",
          "2025-07-21T00:00:00",
          "2025-07-22T00:00:00",
          "2025-07-23T00:00:00",
          "2025-07-24T00:00:00",
          "2025-07-25T00:00:00",
          "2025-07-26T00:00:00",
          "2025-07-27T00:00:00",
          "2025-07-28T00:00:00",
          "2025-07-29T00:00:00",
          "2025-07-30T00:00:00",
          "2025-07-31T00:00:00",
          "2025-08-01T00:00:00",
          "2025-08-02T00:00:00",
          "2025-08-03T00:00:00",
          "2025-08-04T00:00:00",
          "2025-08-05T00:00:00",
          "2025-08-06T00:00:00",
          "2025-08-07T00:00:00",
          "2025-08-08T00:00:00",
          "2025-08-09T00:00:00",
          "2025-08-10T00:00:00",
          "2025-08-11T00:00:00",
          "2025-08-12T00:00:00",
          "2025-08-13T00:00:00",
          "2025-08-14T00:00:00",
          "2025-08-15T00:00:00"
         ],
         "xaxis": "x",
         "y": [
          0,
          5.936508855218903,
          12.97414484255115,
          13.09037462890621,
          12.517637684570438,
          13.681844603811232,
          15.210802583876525,
          20.04886238157193,
          28.90449952283727,
          32.92933532549704,
          35.6913206705602,
          37.459612172975575,
          43.73755192816986,
          43.88666064538358,
          43.34297777474665,
          38.77599039346984,
          41.77005754757306,
          42.506433618861905,
          43.04666939600912,
          48.16422034334262,
          44.8065556567647,
          45.03672166433492,
          45.600668857561,
          41.338017333011365,
          33.372458856308285,
          29.71619222585298,
          33.71693884876379,
          42.18986091753525,
          102.99451237557142,
          107.0421556598137,
          119.99156372775288,
          125.35993626047545,
          139.62108819817033,
          139.09391899654082,
          227.91340280542124,
          256.1473583222649,
          268.9754030654035,
          252.83096431664583,
          259.33497539105764
         ],
         "yaxis": "y"
        },
        {
         "line": {
          "color": "purple"
         },
         "name": "Value Creation Ratio (7d MA)",
         "type": "scatter",
         "x": [
          "2025-07-10T00:00:00",
          "2025-07-11T00:00:00",
          "2025-07-12T00:00:00",
          "2025-07-13T00:00:00",
          "2025-07-14T00:00:00",
          "2025-07-15T00:00:00",
          "2025-07-16T00:00:00",
          "2025-07-17T00:00:00",
          "2025-07-18T00:00:00",
          "2025-07-19T00:00:00",
          "2025-07-20T00:00:00",
          "2025-07-21T00:00:00",
          "2025-07-22T00:00:00",
          "2025-07-23T00:00:00",
          "2025-07-24T00:00:00",
          "2025-07-25T00:00:00",
          "2025-07-26T00:00:00",
          "2025-07-27T00:00:00",
          "2025-07-28T00:00:00",
          "2025-07-29T00:00:00",
          "2025-07-30T00:00:00",
          "2025-07-31T00:00:00",
          "2025-08-01T00:00:00",
          "2025-08-02T00:00:00",
          "2025-08-03T00:00:00",
          "2025-08-04T00:00:00",
          "2025-08-12T00:00:00",
          "2025-08-13T00:00:00",
          "2025-08-14T00:00:00",
          "2025-08-15T00:00:00"
         ],
         "xaxis": "x2",
         "y": [
          0.09898147346930902,
          0.050771590802470186,
          0.02112563670928258,
          0.02112563670928258,
          0.04454589013300371,
          0.04454589013300371,
          0.04454589013300371,
          0.026400695687568605,
          0.038320189463537234,
          0.11480665040416711,
          0.11480665040416711,
          0.014765584052311865,
          -0.0213978547657184,
          -0.0213978547657184,
          0.06349252646785121,
          0.06349252646785121,
          0.048574905676843666,
          0.048574905676843666,
          0.002472542485372854,
          0.0202348927272632,
          0.0202348927272632,
          -0.05077790600864588,
          -0.05077790600864588,
          -0.07807788066487933,
          -0.07807788066487933,
          0.013488107383812698,
          0.1580457591023317,
          0.1580457591023317,
          0.1580457591023317,
          0.1580457591023317
         ],
         "yaxis": "y2"
        },
        {
         "line": {
          "color": "orange"
         },
         "name": "ETH Acquisition Efficiency (7d MA)",
         "type": "scatter",
         "x": [
          "2025-07-10T00:00:00",
          "2025-07-11T00:00:00",
          "2025-07-12T00:00:00",
          "2025-07-13T00:00:00",
          "2025-07-14T00:00:00",
          "2025-07-15T00:00:00",
          "2025-07-16T00:00:00",
          "2025-07-17T00:00:00",
          "2025-07-18T00:00:00",
          "2025-07-19T00:00:00",
          "2025-07-20T00:00:00",
          "2025-07-21T00:00:00",
          "2025-07-22T00:00:00",
          "2025-07-23T00:00:00",
          "2025-07-24T00:00:00",
          "2025-07-25T00:00:00",
          "2025-07-26T00:00:00",
          "2025-07-27T00:00:00",
          "2025-07-28T00:00:00",
          "2025-07-29T00:00:00",
          "2025-07-30T00:00:00",
          "2025-07-31T00:00:00",
          "2025-08-01T00:00:00",
          "2025-08-02T00:00:00",
          "2025-08-03T00:00:00",
          "2025-08-04T00:00:00",
          "2025-08-12T00:00:00",
          "2025-08-13T00:00:00",
          "2025-08-14T00:00:00",
          "2025-08-15T00:00:00"
         ],
         "xaxis": "x2",
         "y": [
          0,
          0,
          0,
          0,
          0,
          0,
          0,
          0,
          0,
          0,
          0,
          0,
          0,
          0,
          0,
          0,
          0,
          0,
          0,
          0,
          0,
          0,
          0,
          0,
          0,
          0,
          0,
          0,
          0,
          0
         ],
         "yaxis": "y2"
        },
        {
         "line": {
          "color": "brown"
         },
         "name": "MNAV (7d MA)",
         "type": "scatter",
         "x": [
          "2025-07-08T00:00:00",
          "2025-07-09T00:00:00",
          "2025-07-10T00:00:00",
          "2025-07-11T00:00:00",
          "2025-07-12T00:00:00",
          "2025-07-13T00:00:00",
          "2025-07-14T00:00:00",
          "2025-07-15T00:00:00",
          "2025-07-16T00:00:00",
          "2025-07-17T00:00:00",
          "2025-07-18T00:00:00",
          "2025-07-19T00:00:00",
          "2025-07-20T00:00:00",
          "2025-07-21T00:00:00",
          "2025-07-22T00:00:00",
          "2025-07-23T00:00:00",
          "2025-07-24T00:00:00",
          "2025-07-25T00:00:00",
          "2025-07-26T00:00:00",
          "2025-07-27T00:00:00",
          "2025-07-28T00:00:00",
          "2025-07-29T00:00:00",
          "2025-07-30T00:00:00",
          "2025-07-31T00:00:00",
          "2025-08-01T00:00:00",
          "2025-08-02T00:00:00",
          "2025-08-03T00:00:00",
          "2025-08-04T00:00:00",
          "2025-08-05T00:00:00",
          "2025-08-06T00:00:00",
          "2025-08-07T00:00:00",
          "2025-08-08T00:00:00",
          "2025-08-09T00:00:00",
          "2025-08-10T00:00:00",
          "2025-08-11T00:00:00",
          "2025-08-12T00:00:00",
          "2025-08-13T00:00:00",
          "2025-08-14T00:00:00",
          "2025-08-15T00:00:00"
         ],
         "xaxis": "x3",
         "y": [
          3.881974062146401,
          3.0373600608225066,
          2.8147643920616168,
          2.4237041341319205,
          2.2236972366968493,
          2.0902421278352588,
          1.9687213945715982,
          1.5797106862441548,
          1.4393192949046811,
          1.2575825678527088,
          1.2341684647380402,
          1.184022248118847,
          1.1176640917461593,
          1.086969374711228,
          1.0613489806952343,
          1.0300582028908218,
          1.0333020322687514,
          1.0298253662098555,
          1.1777259707689232,
          1.2972775012208788,
          1.4483630042685824,
          1.5472230868597574,
          1.661368469275098,
          1.7666130760547194,
          1.8719420797571635,
          1.8351371677997097,
          1.8306327592842968,
          1.7701126904225835,
          1.7088643796116247,
          1.6542551582209337,
          1.5920836508054481,
          1.5819985380472137,
          1.5499671049185597,
          1.5649860507761064,
          1.5227015676683933,
          1.6382820630512012,
          1.7164466012975694,
          1.7998104340431085,
          1.8340809219841498
         ],
         "yaxis": "y3"
        }
       ],
       "layout": {
        "annotations": [
         {
          "font": {
           "size": 16
          },
          "showarrow": false,
          "text": "Cumulative Growth Comparison (%)",
          "x": 0.5,
          "xanchor": "center",
          "xref": "paper",
          "y": 1,
          "yanchor": "bottom",
          "yref": "paper"
         },
         {
          "font": {
           "size": 16
          },
          "showarrow": false,
          "text": "Value Creation vs. Dilution",
          "x": 0.5,
          "xanchor": "center",
          "xref": "paper",
          "y": 0.57,
          "yanchor": "bottom",
          "yref": "paper"
         },
         {
          "font": {
           "size": 16
          },
          "showarrow": false,
          "text": "Market Pricing Efficiency (MNAV)",
          "x": 0.5,
          "xanchor": "center",
          "xref": "paper",
          "y": 0.21,
          "yanchor": "bottom",
          "yref": "paper"
         }
        ],
        "height": 1000,
        "shapes": [
         {
          "line": {
           "color": "gray",
           "dash": "dash"
          },
          "type": "line",
          "x0": 0,
          "x1": 1,
          "xref": "x3 domain",
          "y0": 1,
          "y1": 1,
          "yref": "y3"
         },
         {
          "line": {
           "color": "gray",
           "dash": "dash"
          },
          "type": "line",
          "x0": 0,
          "x1": 1,
          "xref": "x2 domain",
          "y0": 0,
          "y1": 0,
          "yref": "y2"
         }
        ],
        "showlegend": true,
        "template": {
         "data": {
          "bar": [
           {
            "error_x": {
             "color": "#2a3f5f"
            },
            "error_y": {
             "color": "#2a3f5f"
            },
            "marker": {
             "line": {
              "color": "#E5ECF6",
              "width": 0.5
             },
             "pattern": {
              "fillmode": "overlay",
              "size": 10,
              "solidity": 0.2
             }
            },
            "type": "bar"
           }
          ],
          "barpolar": [
           {
            "marker": {
             "line": {
              "color": "#E5ECF6",
              "width": 0.5
             },
             "pattern": {
              "fillmode": "overlay",
              "size": 10,
              "solidity": 0.2
             }
            },
            "type": "barpolar"
           }
          ],
          "carpet": [
           {
            "aaxis": {
             "endlinecolor": "#2a3f5f",
             "gridcolor": "white",
             "linecolor": "white",
             "minorgridcolor": "white",
             "startlinecolor": "#2a3f5f"
            },
            "baxis": {
             "endlinecolor": "#2a3f5f",
             "gridcolor": "white",
             "linecolor": "white",
             "minorgridcolor": "white",
             "startlinecolor": "#2a3f5f"
            },
            "type": "carpet"
           }
          ],
          "choropleth": [
           {
            "colorbar": {
             "outlinewidth": 0,
             "ticks": ""
            },
            "type": "choropleth"
           }
          ],
          "contour": [
           {
            "colorbar": {
             "outlinewidth": 0,
             "ticks": ""
            },
            "colorscale": [
             [
              0,
              "#0d0887"
             ],
             [
              0.1111111111111111,
              "#46039f"
             ],
             [
              0.2222222222222222,
              "#7201a8"
             ],
             [
              0.3333333333333333,
              "#9c179e"
             ],
             [
              0.4444444444444444,
              "#bd3786"
             ],
             [
              0.5555555555555556,
              "#d8576b"
             ],
             [
              0.6666666666666666,
              "#ed7953"
             ],
             [
              0.7777777777777778,
              "#fb9f3a"
             ],
             [
              0.8888888888888888,
              "#fdca26"
             ],
             [
              1,
              "#f0f921"
             ]
            ],
            "type": "contour"
           }
          ],
          "contourcarpet": [
           {
            "colorbar": {
             "outlinewidth": 0,
             "ticks": ""
            },
            "type": "contourcarpet"
           }
          ],
          "heatmap": [
           {
            "colorbar": {
             "outlinewidth": 0,
             "ticks": ""
            },
            "colorscale": [
             [
              0,
              "#0d0887"
             ],
             [
              0.1111111111111111,
              "#46039f"
             ],
             [
              0.2222222222222222,
              "#7201a8"
             ],
             [
              0.3333333333333333,
              "#9c179e"
             ],
             [
              0.4444444444444444,
              "#bd3786"
             ],
             [
              0.5555555555555556,
              "#d8576b"
             ],
             [
              0.6666666666666666,
              "#ed7953"
             ],
             [
              0.7777777777777778,
              "#fb9f3a"
             ],
             [
              0.8888888888888888,
              "#fdca26"
             ],
             [
              1,
              "#f0f921"
             ]
            ],
            "type": "heatmap"
           }
          ],
          "heatmapgl": [
           {
            "colorbar": {
             "outlinewidth": 0,
             "ticks": ""
            },
            "colorscale": [
             [
              0,
              "#0d0887"
             ],
             [
              0.1111111111111111,
              "#46039f"
             ],
             [
              0.2222222222222222,
              "#7201a8"
             ],
             [
              0.3333333333333333,
              "#9c179e"
             ],
             [
              0.4444444444444444,
              "#bd3786"
             ],
             [
              0.5555555555555556,
              "#d8576b"
             ],
             [
              0.6666666666666666,
              "#ed7953"
             ],
             [
              0.7777777777777778,
              "#fb9f3a"
             ],
             [
              0.8888888888888888,
              "#fdca26"
             ],
             [
              1,
              "#f0f921"
             ]
            ],
            "type": "heatmapgl"
           }
          ],
          "histogram": [
           {
            "marker": {
             "pattern": {
              "fillmode": "overlay",
              "size": 10,
              "solidity": 0.2
             }
            },
            "type": "histogram"
           }
          ],
          "histogram2d": [
           {
            "colorbar": {
             "outlinewidth": 0,
             "ticks": ""
            },
            "colorscale": [
             [
              0,
              "#0d0887"
             ],
             [
              0.1111111111111111,
              "#46039f"
             ],
             [
              0.2222222222222222,
              "#7201a8"
             ],
             [
              0.3333333333333333,
              "#9c179e"
             ],
             [
              0.4444444444444444,
              "#bd3786"
             ],
             [
              0.5555555555555556,
              "#d8576b"
             ],
             [
              0.6666666666666666,
              "#ed7953"
             ],
             [
              0.7777777777777778,
              "#fb9f3a"
             ],
             [
              0.8888888888888888,
              "#fdca26"
             ],
             [
              1,
              "#f0f921"
             ]
            ],
            "type": "histogram2d"
           }
          ],
          "histogram2dcontour": [
           {
            "colorbar": {
             "outlinewidth": 0,
             "ticks": ""
            },
            "colorscale": [
             [
              0,
              "#0d0887"
             ],
             [
              0.1111111111111111,
              "#46039f"
             ],
             [
              0.2222222222222222,
              "#7201a8"
             ],
             [
              0.3333333333333333,
              "#9c179e"
             ],
             [
              0.4444444444444444,
              "#bd3786"
             ],
             [
              0.5555555555555556,
              "#d8576b"
             ],
             [
              0.6666666666666666,
              "#ed7953"
             ],
             [
              0.7777777777777778,
              "#fb9f3a"
             ],
             [
              0.8888888888888888,
              "#fdca26"
             ],
             [
              1,
              "#f0f921"
             ]
            ],
            "type": "histogram2dcontour"
           }
          ],
          "mesh3d": [
           {
            "colorbar": {
             "outlinewidth": 0,
             "ticks": ""
            },
            "type": "mesh3d"
           }
          ],
          "parcoords": [
           {
            "line": {
             "colorbar": {
              "outlinewidth": 0,
              "ticks": ""
             }
            },
            "type": "parcoords"
           }
          ],
          "pie": [
           {
            "automargin": true,
            "type": "pie"
           }
          ],
          "scatter": [
           {
            "fillpattern": {
             "fillmode": "overlay",
             "size": 10,
             "solidity": 0.2
            },
            "type": "scatter"
           }
          ],
          "scatter3d": [
           {
            "line": {
             "colorbar": {
              "outlinewidth": 0,
              "ticks": ""
             }
            },
            "marker": {
             "colorbar": {
              "outlinewidth": 0,
              "ticks": ""
             }
            },
            "type": "scatter3d"
           }
          ],
          "scattercarpet": [
           {
            "marker": {
             "colorbar": {
              "outlinewidth": 0,
              "ticks": ""
             }
            },
            "type": "scattercarpet"
           }
          ],
          "scattergeo": [
           {
            "marker": {
             "colorbar": {
              "outlinewidth": 0,
              "ticks": ""
             }
            },
            "type": "scattergeo"
           }
          ],
          "scattergl": [
           {
            "marker": {
             "colorbar": {
              "outlinewidth": 0,
              "ticks": ""
             }
            },
            "type": "scattergl"
           }
          ],
          "scattermapbox": [
           {
            "marker": {
             "colorbar": {
              "outlinewidth": 0,
              "ticks": ""
             }
            },
            "type": "scattermapbox"
           }
          ],
          "scatterpolar": [
           {
            "marker": {
             "colorbar": {
              "outlinewidth": 0,
              "ticks": ""
             }
            },
            "type": "scatterpolar"
           }
          ],
          "scatterpolargl": [
           {
            "marker": {
             "colorbar": {
              "outlinewidth": 0,
              "ticks": ""
             }
            },
            "type": "scatterpolargl"
           }
          ],
          "scatterternary": [
           {
            "marker": {
             "colorbar": {
              "outlinewidth": 0,
              "ticks": ""
             }
            },
            "type": "scatterternary"
           }
          ],
          "surface": [
           {
            "colorbar": {
             "outlinewidth": 0,
             "ticks": ""
            },
            "colorscale": [
             [
              0,
              "#0d0887"
             ],
             [
              0.1111111111111111,
              "#46039f"
             ],
             [
              0.2222222222222222,
              "#7201a8"
             ],
             [
              0.3333333333333333,
              "#9c179e"
             ],
             [
              0.4444444444444444,
              "#bd3786"
             ],
             [
              0.5555555555555556,
              "#d8576b"
             ],
             [
              0.6666666666666666,
              "#ed7953"
             ],
             [
              0.7777777777777778,
              "#fb9f3a"
             ],
             [
              0.8888888888888888,
              "#fdca26"
             ],
             [
              1,
              "#f0f921"
             ]
            ],
            "type": "surface"
           }
          ],
          "table": [
           {
            "cells": {
             "fill": {
              "color": "#EBF0F8"
             },
             "line": {
              "color": "white"
             }
            },
            "header": {
             "fill": {
              "color": "#C8D4E3"
             },
             "line": {
              "color": "white"
             }
            },
            "type": "table"
           }
          ]
         },
         "layout": {
          "annotationdefaults": {
           "arrowcolor": "#2a3f5f",
           "arrowhead": 0,
           "arrowwidth": 1
          },
          "autotypenumbers": "strict",
          "coloraxis": {
           "colorbar": {
            "outlinewidth": 0,
            "ticks": ""
           }
          },
          "colorscale": {
           "diverging": [
            [
             0,
             "#8e0152"
            ],
            [
             0.1,
             "#c51b7d"
            ],
            [
             0.2,
             "#de77ae"
            ],
            [
             0.3,
             "#f1b6da"
            ],
            [
             0.4,
             "#fde0ef"
            ],
            [
             0.5,
             "#f7f7f7"
            ],
            [
             0.6,
             "#e6f5d0"
            ],
            [
             0.7,
             "#b8e186"
            ],
            [
             0.8,
             "#7fbc41"
            ],
            [
             0.9,
             "#4d9221"
            ],
            [
             1,
             "#276419"
            ]
           ],
           "sequential": [
            [
             0,
             "#0d0887"
            ],
            [
             0.1111111111111111,
             "#46039f"
            ],
            [
             0.2222222222222222,
             "#7201a8"
            ],
            [
             0.3333333333333333,
             "#9c179e"
            ],
            [
             0.4444444444444444,
             "#bd3786"
            ],
            [
             0.5555555555555556,
             "#d8576b"
            ],
            [
             0.6666666666666666,
             "#ed7953"
            ],
            [
             0.7777777777777778,
             "#fb9f3a"
            ],
            [
             0.8888888888888888,
             "#fdca26"
            ],
            [
             1,
             "#f0f921"
            ]
           ],
           "sequentialminus": [
            [
             0,
             "#0d0887"
            ],
            [
             0.1111111111111111,
             "#46039f"
            ],
            [
             0.2222222222222222,
             "#7201a8"
            ],
            [
             0.3333333333333333,
             "#9c179e"
            ],
            [
             0.4444444444444444,
             "#bd3786"
            ],
            [
             0.5555555555555556,
             "#d8576b"
            ],
            [
             0.6666666666666666,
             "#ed7953"
            ],
            [
             0.7777777777777778,
             "#fb9f3a"
            ],
            [
             0.8888888888888888,
             "#fdca26"
            ],
            [
             1,
             "#f0f921"
            ]
           ]
          },
          "colorway": [
           "#636efa",
           "#EF553B",
           "#00cc96",
           "#ab63fa",
           "#FFA15A",
           "#19d3f3",
           "#FF6692",
           "#B6E880",
           "#FF97FF",
           "#FECB52"
          ],
          "font": {
           "color": "#2a3f5f"
          },
          "geo": {
           "bgcolor": "white",
           "lakecolor": "white",
           "landcolor": "#E5ECF6",
           "showlakes": true,
           "showland": true,
           "subunitcolor": "white"
          },
          "hoverlabel": {
           "align": "left"
          },
          "hovermode": "closest",
          "mapbox": {
           "style": "light"
          },
          "paper_bgcolor": "white",
          "plot_bgcolor": "#E5ECF6",
          "polar": {
           "angularaxis": {
            "gridcolor": "white",
            "linecolor": "white",
            "ticks": ""
           },
           "bgcolor": "#E5ECF6",
           "radialaxis": {
            "gridcolor": "white",
            "linecolor": "white",
            "ticks": ""
           }
          },
          "scene": {
           "xaxis": {
            "backgroundcolor": "#E5ECF6",
            "gridcolor": "white",
            "gridwidth": 2,
            "linecolor": "white",
            "showbackground": true,
            "ticks": "",
            "zerolinecolor": "white"
           },
           "yaxis": {
            "backgroundcolor": "#E5ECF6",
            "gridcolor": "white",
            "gridwidth": 2,
            "linecolor": "white",
            "showbackground": true,
            "ticks": "",
            "zerolinecolor": "white"
           },
           "zaxis": {
            "backgroundcolor": "#E5ECF6",
            "gridcolor": "white",
            "gridwidth": 2,
            "linecolor": "white",
            "showbackground": true,
            "ticks": "",
            "zerolinecolor": "white"
           }
          },
          "shapedefaults": {
           "line": {
            "color": "#2a3f5f"
           }
          },
          "ternary": {
           "aaxis": {
            "gridcolor": "white",
            "linecolor": "white",
            "ticks": ""
           },
           "baxis": {
            "gridcolor": "white",
            "linecolor": "white",
            "ticks": ""
           },
           "bgcolor": "#E5ECF6",
           "caxis": {
            "gridcolor": "white",
            "linecolor": "white",
            "ticks": ""
           }
          },
          "title": {
           "x": 0.05
          },
          "xaxis": {
           "automargin": true,
           "gridcolor": "white",
           "linecolor": "white",
           "ticks": "",
           "title": {
            "standoff": 15
           },
           "zerolinecolor": "white",
           "zerolinewidth": 2
          },
          "yaxis": {
           "automargin": true,
           "gridcolor": "white",
           "linecolor": "white",
           "ticks": "",
           "title": {
            "standoff": 15
           },
           "zerolinecolor": "white",
           "zerolinewidth": 2
          }
         }
        },
        "title": {
         "text": "BitMine Growth and Efficiency Analysis"
        },
        "width": 1000,
        "xaxis": {
         "anchor": "y",
         "domain": [
          0,
          1
         ]
        },
        "xaxis2": {
         "anchor": "y2",
         "domain": [
          0,
          1
         ]
        },
        "xaxis3": {
         "anchor": "y3",
         "domain": [
          0,
          1
         ],
         "title": {
          "text": "Date"
         }
        },
        "yaxis": {
         "anchor": "x",
         "domain": [
          0.72,
          1
         ],
         "title": {
          "text": "Growth Rate (%)"
         }
        },
        "yaxis2": {
         "anchor": "x2",
         "domain": [
          0.36,
          0.57
         ],
         "title": {
          "text": "Ratio"
         }
        },
        "yaxis3": {
         "anchor": "x3",
         "domain": [
          0,
          0.21
         ],
         "title": {
          "text": "MNAV Ratio"
         }
        }
       }
      }
     },
     "metadata": {},
     "output_type": "display_data"
    },
    {
     "name": "stdout",
     "output_type": "stream",
     "text": [
      "\n",
      "Summary Statistics:\n",
      "Total ETH Growth: 102.9%\n",
      "Total Shares Growth: 236.2%\n",
      "Total NAV Growth: 259.3%\n",
      "\n",
      "Latest MNAV: 1.834\n",
      "Latest Value Creation Ratio: 0.158\n",
      "Latest ETH Acquisition Efficiency: 0.000\n"
     ]
    }
   ],
   "source": [
    "# Calculate daily growth rates (handle the first day separately)\n",
    "daily_holdings['eth_growth'] = daily_holdings['eth'].pct_change().fillna(0)\n",
    "daily_holdings['shares_growth'] = daily_holdings['shares_outstanding'].pct_change().fillna(0)\n",
    "daily_holdings['nav_growth'] = daily_holdings['nav'].pct_change().fillna(0)\n",
    "\n",
    "# Calculate cumulative metrics\n",
    "daily_holdings['cum_eth_growth'] = ((1 + daily_holdings['eth_growth']).cumprod() - 1) * 100  # Convert to percentage\n",
    "daily_holdings['cum_shares_growth'] = ((1 + daily_holdings['shares_growth']).cumprod() - 1) * 100\n",
    "daily_holdings['cum_nav_growth'] = ((1 + daily_holdings['nav_growth']).cumprod() - 1) * 100\n",
    "\n",
    "# Calculate efficiency metrics with safety checks\n",
    "daily_holdings['value_creation_ratio'] = np.where(\n",
    "    daily_holdings['shares_growth'] != 0,\n",
    "    daily_holdings['nav_growth'] / daily_holdings['shares_growth'].abs(),\n",
    "    np.nan\n",
    ")\n",
    "\n",
    "daily_holdings['eth_acquisition_efficiency'] = np.where(\n",
    "    daily_holdings['shares_growth'] != 0,\n",
    "    daily_holdings['eth_growth'] / daily_holdings['shares_growth'].abs(),\n",
    "    np.nan\n",
    ")\n",
    "\n",
    "# Calculate rolling averages for smoother visualization\n",
    "window = 7  # 7-day rolling window\n",
    "rolling_metrics = daily_holdings[['date', 'mnav', 'value_creation_ratio', 'eth_acquisition_efficiency']].copy()\n",
    "rolling_metrics['mnav_ma'] = daily_holdings['mnav'].rolling(window=window, min_periods=1).mean()\n",
    "rolling_metrics['value_creation_ma'] = daily_holdings['value_creation_ratio'].rolling(window=window, min_periods=1).mean()\n",
    "rolling_metrics['eth_efficiency_ma'] = daily_holdings['eth_acquisition_efficiency'].rolling(window=window, min_periods=1).mean()\n",
    "\n",
    "# Create visualization\n",
    "fig = make_subplots(rows=3, cols=1,\n",
    "                    subplot_titles=('Cumulative Growth Comparison (%)',\n",
    "                                  'Value Creation vs. Dilution',\n",
    "                                  'Market Pricing Efficiency (MNAV)'),\n",
    "                    vertical_spacing=0.15,\n",
    "                    row_heights=[0.4, 0.3, 0.3])\n",
    "\n",
    "# Cumulative Growth Comparison\n",
    "fig.add_trace(go.Scatter(x=daily_holdings['date'], y=daily_holdings['cum_eth_growth'], \n",
    "                        name='ETH Holdings Growth %', line=dict(color='blue')), row=1, col=1)\n",
    "fig.add_trace(go.Scatter(x=daily_holdings['date'], y=daily_holdings['cum_shares_growth'], \n",
    "                        name='Shares Outstanding Growth %', line=dict(color='red')), row=1, col=1)\n",
    "fig.add_trace(go.Scatter(x=daily_holdings['date'], y=daily_holdings['cum_nav_growth'], \n",
    "                        name='NAV Growth %', line=dict(color='green')), row=1, col=1)\n",
    "\n",
    "# Value Creation vs. Dilution (only plot non-NaN values)\n",
    "mask = rolling_metrics['value_creation_ma'].notna()\n",
    "fig.add_trace(go.Scatter(x=rolling_metrics.loc[mask, 'date'], \n",
    "                        y=rolling_metrics.loc[mask, 'value_creation_ma'],\n",
    "                        name='Value Creation Ratio (7d MA)', \n",
    "                        line=dict(color='purple')), row=2, col=1)\n",
    "\n",
    "mask = rolling_metrics['eth_efficiency_ma'].notna()\n",
    "fig.add_trace(go.Scatter(x=rolling_metrics.loc[mask, 'date'], \n",
    "                        y=rolling_metrics.loc[mask, 'eth_efficiency_ma'],\n",
    "                        name='ETH Acquisition Efficiency (7d MA)', \n",
    "                        line=dict(color='orange')), row=2, col=1)\n",
    "\n",
    "# MNAV Trend\n",
    "fig.add_trace(go.Scatter(x=rolling_metrics['date'], y=rolling_metrics['mnav_ma'], \n",
    "                        name='MNAV (7d MA)', line=dict(color='brown')), row=3, col=1)\n",
    "fig.add_hline(y=1, line_dash=\"dash\", line_color=\"gray\", row=3, col=1)\n",
    "\n",
    "# Update layout\n",
    "fig.update_layout(height=1000, width=1000, \n",
    "                 title_text=\"BitMine Growth and Efficiency Analysis\",\n",
    "                 showlegend=True)\n",
    "\n",
    "# Update axes labels\n",
    "fig.update_yaxes(title_text=\"Growth Rate (%)\", row=1, col=1)\n",
    "fig.update_yaxes(title_text=\"Ratio\", row=2, col=1)\n",
    "fig.update_yaxes(title_text=\"MNAV Ratio\", row=3, col=1)\n",
    "fig.update_xaxes(title_text=\"Date\", row=3, col=1)\n",
    "\n",
    "# Add reference line at y=0 for the value creation plot\n",
    "fig.add_hline(y=0, line_dash=\"dash\", line_color=\"gray\", row=2, col=1)\n",
    "\n",
    "fig.show()\n",
    "\n",
    "# Print summary statistics\n",
    "print(\"\\nSummary Statistics:\")\n",
    "print(f\"Total ETH Growth: {daily_holdings['cum_eth_growth'].iloc[-1]:.1f}%\")\n",
    "print(f\"Total Shares Growth: {daily_holdings['cum_shares_growth'].iloc[-1]:.1f}%\")\n",
    "print(f\"Total NAV Growth: {daily_holdings['cum_nav_growth'].iloc[-1]:.1f}%\")\n",
    "print(f\"\\nLatest MNAV: {rolling_metrics['mnav_ma'].iloc[-1]:.3f}\")\n",
    "print(f\"Latest Value Creation Ratio: {rolling_metrics['value_creation_ma'].iloc[-1]:.3f}\")\n",
    "print(f\"Latest ETH Acquisition Efficiency: {rolling_metrics['eth_efficiency_ma'].iloc[-1]:.3f}\")"
   ]
  },
  {
   "cell_type": "markdown",
   "id": "9f52217e",
   "metadata": {},
   "source": [
    "# Analysis Interpretation\n",
    "\n",
    "1. **Cumulative Growth Comparison**:\n",
    "   - Shows relative growth rates of ETH holdings vs. shares outstanding vs. NAV\n",
    "   - If NAV growth > shares growth, value is being created despite dilution\n",
    "   - If ETH growth > shares growth, acquisition is efficient\n",
    "\n",
    "2. **Value Creation vs. Dilution**:\n",
    "   - Value Creation Ratio > 1 means NAV is growing faster than dilution\n",
    "   - ETH Acquisition Efficiency > 1 means ETH holdings are growing faster than share dilution\n",
    "   - Higher ratios indicate more efficient capital deployment\n",
    "\n",
    "3. **MNAV (Market Price/NAV)**:\n",
    "   - MNAV > 1 indicates market premium to NAV\n",
    "   - MNAV < 1 indicates market discount to NAV\n",
    "   - Trend shows market's evolving view of the strategy\n",
    "\n",
    "Look for:\n",
    "- Sustained value creation ratio > 1\n",
    "- Stable or improving ETH acquisition efficiency\n",
    "- MNAV trending toward or above 1"
   ]
  },
  {
   "cell_type": "code",
   "execution_count": null,
   "id": "47c49242",
   "metadata": {},
   "outputs": [],
   "source": [
    "# Define announcement dates\n",
    "announcements = {\n",
    "    'First ETH Purchase': pd.Timestamp('2025-07-24'),\n",
    "    'Expansion Plan': pd.Timestamp('2025-08-12')\n",
    "}\n",
    "\n",
    "# Function to analyze price movements around dates\n",
    "def analyze_price_movement(data, date, days_before=5, days_after=5):\n",
    "    start_date = date - pd.Timedelta(days=days_before)\n",
    "    end_date = date + pd.Timedelta(days=days_after)\n",
    "    period_data = data[(data['date'] >= start_date) & (data['date'] <= end_date)].copy()\n",
    "    \n",
    "    if len(period_data) > 0:\n",
    "        base_price = period_data.loc[period_data['date'] <= date, 'stock_px'].iloc[-1]\n",
    "        period_data['price_change'] = (period_data['stock_px'] / base_price - 1) * 100\n",
    "        return period_data\n",
    "    return None\n",
    "\n",
    "# Create subplots for announcement analysis\n",
    "fig = make_subplots(rows=2, cols=2,\n",
    "                    subplot_titles=('Stock Price Around Announcements',\n",
    "                                  'MNAV Around Announcements',\n",
    "                                  'Cumulative Returns Around Announcements',\n",
    "                                  'Trading Volume Analysis'),\n",
    "                    vertical_spacing=0.15,\n",
    "                    horizontal_spacing=0.1)\n",
    "\n",
    "# Analyze each announcement\n",
    "colors = ['blue', 'red']\n",
    "for i, (name, date) in enumerate(announcements.items()):\n",
    "    period_data = analyze_price_movement(daily_holdings, date)\n",
    "    \n",
    "    if period_data is not None:\n",
    "        # Stock Price\n",
    "        fig.add_trace(go.Scatter(\n",
    "            x=period_data['date'],\n",
    "            y=period_data['stock_px'],\n",
    "            name=f'{name} - Price',\n",
    "            line=dict(color=colors[i]),\n",
    "            showlegend=True\n",
    "        ), row=1, col=1)\n",
    "        \n",
    "        # MNAV\n",
    "        fig.add_trace(go.Scatter(\n",
    "            x=period_data['date'],\n",
    "            y=period_data['mnav'],\n",
    "            name=f'{name} - MNAV',\n",
    "            line=dict(color=colors[i], dash='dot'),\n",
    "            showlegend=True\n",
    "        ), row=1, col=2)\n",
    "        \n",
    "        # Cumulative Returns\n",
    "        fig.add_trace(go.Scatter(\n",
    "            x=period_data['date'],\n",
    "            y=period_data['price_change'],\n",
    "            name=f'{name} - Return',\n",
    "            line=dict(color=colors[i]),\n",
    "            showlegend=True\n",
    "        ), row=2, col=1)\n",
    "        \n",
    "        # Add vertical lines for announcement dates\n",
    "        for row in [1, 2]:\n",
    "            for col in [1, 2]:\n",
    "                fig.add_vline(x=date, line_dash=\"dash\", line_color=colors[i],\n",
    "                            row=row, col=col, opacity=0.3)\n",
    "\n",
    "# Update layout\n",
    "fig.update_layout(height=800, width=1200,\n",
    "                 title_text=\"Analysis of Price Movement Around Key Announcements\")\n",
    "\n",
    "fig.update_yaxes(title_text=\"Stock Price (USD)\", row=1, col=1)\n",
    "fig.update_yaxes(title_text=\"MNAV Ratio\", row=1, col=2)\n",
    "fig.update_yaxes(title_text=\"Cumulative Return (%)\", row=2, col=1)\n",
    "\n",
    "fig.show()\n",
    "\n",
    "# Print detailed analysis\n",
    "print(\"\\nDetailed Analysis of Announcements:\")\n",
    "for name, date in announcements.items():\n",
    "    period_data = analyze_price_movement(daily_holdings, date)\n",
    "    if period_data is not None:\n",
    "        pre_price = period_data.loc[period_data['date'] < date, 'stock_px'].iloc[0]\n",
    "        announcement_price = period_data.loc[period_data['date'] == date, 'stock_px'].iloc[0]\n",
    "        post_price = period_data.loc[period_data['date'] > date, 'stock_px'].iloc[-1]\n",
    "        \n",
    "        pre_mnav = period_data.loc[period_data['date'] < date, 'mnav'].iloc[0]\n",
    "        announcement_mnav = period_data.loc[period_data['date'] == date, 'mnav'].iloc[0]\n",
    "        post_mnav = period_data.loc[period_data['date'] > date, 'mnav'].iloc[-1]\n",
    "        \n",
    "        print(f\"\\n{name} ({date.strftime('%Y-%m-%d')}):\")\n",
    "        print(f\"Price Movement:\")\n",
    "        print(f\"- Pre-announcement: ${pre_price:.2f}\")\n",
    "        print(f\"- Announcement day: ${announcement_price:.2f} ({((announcement_price/pre_price - 1) * 100):.1f}% change)\")\n",
    "        print(f\"- Post-announcement: ${post_price:.2f} ({((post_price/pre_price - 1) * 100):.1f}% total change)\")\n",
    "        \n",
    "        print(f\"MNAV Movement:\")\n",
    "        print(f\"- Pre-announcement: {pre_mnav:.3f}\")\n",
    "        print(f\"- Announcement day: {announcement_mnav:.3f}\")\n",
    "        print(f\"- Post-announcement: {post_mnav:.3f}\")"
   ]
  },
  {
   "cell_type": "markdown",
   "id": "b37692e4",
   "metadata": {},
   "source": [
    "# Key Observations Around Announcements\n",
    "\n",
    "1. **First ETH Purchase (July 24, 2025)**:\n",
    "   - Represents the initial $2B ETH purchase announcement\n",
    "   - Watch for:\n",
    "     - Initial market reaction to the strategy\n",
    "     - MNAV changes as market prices in the ETH holdings\n",
    "     - Any premium/discount to NAV\n",
    "\n",
    "2. **Expansion Plan (August 12, 2025)**:\n",
    "   - Represents the $20B ETH purchase plan announcement\n",
    "   - Key points:\n",
    "     - Market's reaction to aggressive expansion\n",
    "     - Changes in MNAV reflecting market confidence\n",
    "     - Price movement relative to NAV growth\n",
    "\n",
    "3. **Impact Analysis**:\n",
    "   - Compare pre and post-announcement price levels\n",
    "   - Look for changes in MNAV premium/discount\n",
    "   - Assess market's efficiency in pricing the news"
   ]
  }
 ],
 "metadata": {
  "kernelspec": {
   "display_name": "base",
   "language": "python",
   "name": "python3"
  },
  "language_info": {
   "codemirror_mode": {
    "name": "ipython",
    "version": 3
   },
   "file_extension": ".py",
   "mimetype": "text/x-python",
   "name": "python",
   "nbconvert_exporter": "python",
   "pygments_lexer": "ipython3",
   "version": "3.13.5"
  }
 },
 "nbformat": 4,
 "nbformat_minor": 5
}
