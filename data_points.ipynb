{
 "cells": [
  {
   "cell_type": "code",
   "execution_count": 1,
   "id": "c14eb494",
   "metadata": {},
   "outputs": [
    {
     "ename": "ModuleNotFoundError",
     "evalue": "No module named 'bls'",
     "output_type": "error",
     "traceback": [
      "\u001b[1;31m---------------------------------------------------------------------------\u001b[0m",
      "\u001b[1;31mModuleNotFoundError\u001b[0m                       Traceback (most recent call last)",
      "Cell \u001b[1;32mIn[1], line 3\u001b[0m\n\u001b[0;32m      1\u001b[0m \u001b[38;5;28;01mimport\u001b[39;00m\u001b[38;5;250m \u001b[39m\u001b[38;5;21;01mrequests\u001b[39;00m\n\u001b[0;32m      2\u001b[0m \u001b[38;5;28;01mimport\u001b[39;00m\u001b[38;5;250m \u001b[39m\u001b[38;5;21;01mpandas\u001b[39;00m\u001b[38;5;250m \u001b[39m\u001b[38;5;28;01mas\u001b[39;00m\u001b[38;5;250m \u001b[39m\u001b[38;5;21;01mpd\u001b[39;00m\n\u001b[1;32m----> 3\u001b[0m \u001b[38;5;28;01mfrom\u001b[39;00m\u001b[38;5;250m \u001b[39m\u001b[38;5;21;01mbls\u001b[39;00m\u001b[38;5;250m \u001b[39m\u001b[38;5;28;01mimport\u001b[39;00m BLS\n",
      "\u001b[1;31mModuleNotFoundError\u001b[0m: No module named 'bls'"
     ]
    }
   ],
   "source": [
    "import requests\n",
    "import pandas as pd\n",
    "from bls import BLS"
   ]
  },
  {
   "cell_type": "code",
   "execution_count": 3,
   "id": "5d9160a1",
   "metadata": {},
   "outputs": [],
   "source": [
    "API_KEY = \"0e8a6a2fca774fc5a0d0935de65ee23c\"  # replace with your key\n",
    "url = \"https://api.bls.gov/publicAPI/v2/timeseries/data/\""
   ]
  },
  {
   "cell_type": "code",
   "execution_count": 4,
   "id": "13c461d0",
   "metadata": {},
   "outputs": [
    {
     "name": "stdout",
     "output_type": "stream",
     "text": [
      "   year period periodName    value footnotes\n",
      "0  2020    M01    January  259.127      [{}]\n",
      "1  2020    M02   February  259.250      [{}]\n",
      "2  2020    M03      March  258.076      [{}]\n",
      "3  2020    M04      April  256.032      [{}]\n",
      "4  2020    M05        May  255.802      [{}]\n"
     ]
    }
   ],
   "source": [
    "# Example series: 'CUSR0000SA0' → CPI for All Urban Consumers, U.S. City Average, All Items\n",
    "payload = {\n",
    "    \"seriesid\": [\"CUSR0000SA0\"],\n",
    "    \"startyear\": \"2020\",\n",
    "    \"endyear\": \"2024\",\n",
    "    \"registrationkey\": API_KEY\n",
    "}\n",
    "\n",
    "response = requests.post(url, json=payload)\n",
    "data = response.json()\n",
    "\n",
    "series_data = data['Results']['series'][0]['data']\n",
    "\n",
    "# Convert to DataFrame\n",
    "df = pd.DataFrame(series_data)\n",
    "df['value'] = df['value'].astype(float)\n",
    "df = df.sort_values(['year', 'period'], ascending=[True, True]).reset_index(drop=True)\n",
    "\n",
    "print(df.head())"
   ]
  },
  {
   "cell_type": "code",
   "execution_count": null,
   "id": "79756c6d",
   "metadata": {},
   "outputs": [],
   "source": []
  }
 ],
 "metadata": {
  "kernelspec": {
   "display_name": "base",
   "language": "python",
   "name": "python3"
  },
  "language_info": {
   "codemirror_mode": {
    "name": "ipython",
    "version": 3
   },
   "file_extension": ".py",
   "mimetype": "text/x-python",
   "name": "python",
   "nbconvert_exporter": "python",
   "pygments_lexer": "ipython3",
   "version": "3.13.5"
  }
 },
 "nbformat": 4,
 "nbformat_minor": 5
}
